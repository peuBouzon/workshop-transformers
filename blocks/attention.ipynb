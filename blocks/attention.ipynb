{
 "cells": [
  {
   "cell_type": "markdown",
   "id": "8d18cb52",
   "metadata": {},
   "source": [
    "## Mecanismo de atenção"
   ]
  },
  {
   "cell_type": "code",
   "execution_count": 290,
   "id": "c4f0b912",
   "metadata": {},
   "outputs": [
    {
     "data": {
      "text/plain": [
       "<torch._C.Generator at 0x7fdf79119af0>"
      ]
     },
     "execution_count": 290,
     "metadata": {},
     "output_type": "execute_result"
    }
   ],
   "source": [
    "import torch\n",
    "import numpy as np\n",
    "\n",
    "from utils import plot_tensors_2d\n",
    "torch.manual_seed(42)"
   ]
  },
  {
   "cell_type": "markdown",
   "id": "d4de4d39",
   "metadata": {},
   "source": [
    "#### Motivação\n",
    "\n",
    "\"Joana não atravessou a estrada porque ela estava\"\n",
    "####\n",
    "| Token      | Col 1 | Col 2 | Col 3 | Col 4 | Col 5 | Col 6 | Col 7 | Col 8 |\n",
    "|:-----------|:-----:|:-----:|:-----:|:-----:|:-----:|:-----:|:-----:|:-----:|\n",
    "| Joana      | 1     | 0     | 0     | 0     | 0     | 0     | 0     | 0     |\n",
    "| não        | 0     | 1     | 0     | 0     | 0     | 0     | 0     | 0     |\n",
    "| atravessou | 0     | 0     | 1     | 0     | 0     | 0     | 0     | 0     |\n",
    "| a          | 0     | 0     | 0     | 1     | 0     | 0     | 0     | 0     |\n",
    "| estrada    | 0     | 0     | 0     | 0     | 1     | 0     | 0     | 0     |\n",
    "| porque     | 0     | 0     | 0     | 0     | 0     | 1     | 0     | 0     |\n",
    "| ela        | 0     | 0     | 0     | 0     | 0     | 0     | 1     | 0     |\n",
    "| estava     | 0     | 0     | 0     | 0     | 0     | 0     | 0     | 1     |"
   ]
  },
  {
   "cell_type": "markdown",
   "id": "15586b7f",
   "metadata": {},
   "source": [
    "#### O ideal seria ter uma representação numérica que capturasse o sentido da palavra \"ela\" no contexto da frase anterior. \n",
    "\n",
    "Por exemplo:\n",
    "\n",
    "\"Joana não atravessou a estrada porque ela estava\"\n",
    "\n",
    "| Token      | Col 1 | Col 2 | Col 3 | Col 4 | Col 5 | Col 6 | Col 7 | Col 8 |\n",
    "|:-----------|:-----:|:-----:|:-----:|:-----:|:-----:|:-----:|:-----:|:-----:|\n",
    "| Joana      | 1     | 0     | 0     | 0     | 0     | 0     | 0     | 0     |\n",
    "| não        | 0     | 1     | 0     | 0     | 0     | 0     | 0     | 0     |\n",
    "| atravessou | 0     | 0     | 1     | 0     | 0     | 0     | 0     | 0     |\n",
    "| a          | 0     | 0     | 0     | 1     | 0     | 0     | 0     | 0     |\n",
    "| estrada    | 0     | 0     | 0     | 0     | 1     | 0     | 0     | 0     |\n",
    "| porque     | 0     | 0     | 0     | 0     | 0     | 1     | 0     | 0     |\n",
    "| ela        | 0.3     | 0     | 0     | 0     | 0.3     | 0     | 0.4     | 0     |\n",
    "| estava     | 0     | 0     | 0     | 0     | 0     | 0     | 0     | 1     |"
   ]
  },
  {
   "cell_type": "code",
   "execution_count": 291,
   "id": "944eacfb",
   "metadata": {},
   "outputs": [
    {
     "name": "stdout",
     "output_type": "stream",
     "text": [
      "Antes da atenção: \n",
      "\n",
      "[[1. 0. 0. 0. 0. 0. 0. 0.]\n",
      " [0. 1. 0. 0. 0. 0. 0. 0.]\n",
      " [0. 0. 1. 0. 0. 0. 0. 0.]\n",
      " [0. 0. 0. 1. 0. 0. 0. 0.]\n",
      " [0. 0. 0. 0. 1. 0. 0. 0.]\n",
      " [0. 0. 0. 0. 0. 1. 0. 0.]\n",
      " [0. 0. 0. 0. 0. 0. 1. 0.]\n",
      " [0. 0. 0. 0. 0. 0. 0. 1.]]\n"
     ]
    }
   ],
   "source": [
    "X = torch.tensor([[1., 0., 0., 0., 0., 0., 0., 0.],    # \"Joana\"\n",
    "                  [0., 1., 0., 0., 0., 0., 0., 0.],    # \"não\"\n",
    "                  [0., 0., 1., 0., 0., 0., 0., 0.],    # \"atravessou\"\n",
    "                  [0., 0., 0., 1., 0., 0., 0., 0.],    # \"a\"\n",
    "                  [0., 0., 0., 0., 1., 0., 0., 0.],    # \"estrada\"\n",
    "                  [0., 0., 0., 0., 0., 1., 0., 0.],    # \"porque\"\n",
    "                  [0., 0., 0., 0., 0., 0., 1., 0.],    # \"ela\"\n",
    "                  [0., 0., 0., 0., 0., 0., 0., 1.]]    # \"estava\"\n",
    ").float()\n",
    "\n",
    "print(f'Antes da atenção: \\n')\n",
    "print(X.numpy())"
   ]
  },
  {
   "cell_type": "code",
   "execution_count": 292,
   "id": "466d69d9",
   "metadata": {},
   "outputs": [
    {
     "name": "stdout",
     "output_type": "stream",
     "text": [
      "Depois da atenção: \n",
      "\n",
      "[[1.  0.  0.  0.  0.  0.  0.  0. ]\n",
      " [0.  1.  0.  0.  0.  0.  0.  0. ]\n",
      " [0.  0.  1.  0.  0.  0.  0.  0. ]\n",
      " [0.  0.  0.  1.  0.  0.  0.  0. ]\n",
      " [0.  0.  0.  0.  1.  0.  0.  0. ]\n",
      " [0.  0.  0.  0.  0.  1.  0.  0. ]\n",
      " [0.3 0.  0.  0.  0.3 0.  0.4 0. ]\n",
      " [0.  0.  0.  0.  0.  0.  0.  1. ]]\n"
     ]
    }
   ],
   "source": [
    "attention = torch.tensor([\n",
    "                [1., 0., 0., 0., 0., 0., 0., 0.], \n",
    "                [0., 1., 0., 0., 0., 0., 0., 0.],\n",
    "                [0., 0., 1., 0., 0., 0., 0., 0.],\n",
    "                [0., 0., 0., 1., 0., 0., 0., 0.],\n",
    "                [0., 0., 0., 0., 1., 0., 0., 0.], \n",
    "                [0., 0., 0., 0., 0., 1., 0., 0.],\n",
    "                [0.3, 0., 0., 0., 0.3, 0., 0.4, 0.],    # mapa de atenção para a palavra \"ela\"\n",
    "                [0., 0., 0., 0., 0., 0., 0., 1.]\n",
    "]).float()\n",
    "\n",
    "\n",
    "print(f'Depois da atenção: \\n')\n",
    "print((attention @ X).numpy())"
   ]
  },
  {
   "cell_type": "markdown",
   "id": "97dda07f",
   "metadata": {},
   "source": [
    "### Scaled Dot-Product Attention\n",
    "\n",
    "$$\n",
    "\\text{Atenção}(Q, K, V) = \\text{softmax}\\left(\\frac{QK^T}{\\sqrt{d_k}}\\right)V\n",
    "$$"
   ]
  },
  {
   "cell_type": "code",
   "execution_count": 293,
   "id": "58d31e2e",
   "metadata": {},
   "outputs": [],
   "source": [
    "TAMANHO_SEQUENCIA = 3       # tamanho máximo de cada sequência\n",
    "DIMENSAO_EMBEDDINGS = 3     # tamanho da representação numérica de cada parte de uma sequência"
   ]
  },
  {
   "cell_type": "markdown",
   "id": "79ffc555",
   "metadata": {},
   "source": [
    "#### Representação numérica de palavras:\n",
    "\"Olá Mundo!\"\n",
    "####\n",
    "| Token  | Col 1 | Col 2 | Col 3 | Col 4 |\n",
    "|:------|:-----:|:-----:|:-----:|------:|\n",
    "| Olá   | 0     | 1     | 2     | 3     |\n",
    "| Mundo | -2    | 4     | 0     | -5    |\n",
    "| !     | 0     | 0     | 0     | -1    |\n"
   ]
  },
  {
   "cell_type": "code",
   "execution_count": 294,
   "id": "2c63b35f",
   "metadata": {},
   "outputs": [
    {
     "data": {
      "text/plain": [
       "(tensor([[1., 0., 0.],\n",
       "         [0., 1., 0.],\n",
       "         [0., 0., 1.]]),\n",
       " torch.Size([3, 3]))"
      ]
     },
     "execution_count": 294,
     "metadata": {},
     "output_type": "execute_result"
    }
   ],
   "source": [
    "X = torch.tensor([\n",
    "    [1, 0, 0],    # \"Olá\"\n",
    "    [0, 1, 0],  # \"Mundo\"\n",
    "    [0, 0, 1]    # \"!\"\n",
    "]).float()\n",
    "X, X.shape"
   ]
  },
  {
   "cell_type": "code",
   "execution_count": 295,
   "id": "b361fb32",
   "metadata": {},
   "outputs": [
    {
     "data": {
      "text/plain": [
       "(torch.Size([3, 3]),\n",
       " torch.Size([3, 3]),\n",
       " torch.Size([3, 3]),\n",
       " torch.Size([3, 3]))"
      ]
     },
     "execution_count": 295,
     "metadata": {},
     "output_type": "execute_result"
    }
   ],
   "source": [
    "linear_q = torch.randn(DIMENSAO_EMBEDDINGS, DIMENSAO_EMBEDDINGS)\n",
    "linear_v = torch.randn(DIMENSAO_EMBEDDINGS, DIMENSAO_EMBEDDINGS)\n",
    "linear_k = torch.randn(DIMENSAO_EMBEDDINGS, DIMENSAO_EMBEDDINGS)\n",
    "\n",
    "Q = torch.matmul(X, linear_q) \n",
    "K = torch.matmul(X, linear_k)\n",
    "V = torch.matmul(X, linear_v)\n",
    "\n",
    "X.shape, Q.shape, K.shape, V.shape"
   ]
  },
  {
   "cell_type": "markdown",
   "id": "729de03c",
   "metadata": {},
   "source": [
    "#### O produto escalar é uma medida de similaridade entre dois vetores:\n",
    "\n",
    "$$\n",
    "\\vec{q_i} \\cdot \\vec{k_i} = \\|\\vec{q_i}\\| \\|\\vec{k_i}\\| \\cos(\\theta)\n",
    "$$"
   ]
  },
  {
   "cell_type": "code",
   "execution_count": 296,
   "id": "41ecbb61",
   "metadata": {},
   "outputs": [
    {
     "data": {
      "image/png": "[encoded data removed]",
      "text/plain": [
       "<Figure size 600x250 with 1 Axes>"
      ]
     },
     "metadata": {},
     "output_type": "display_data"
    }
   ],
   "source": [
    "q_i = torch.tensor([1, 1]).float()\n",
    "k_i = torch.tensor([-0.5, -0.2]).float()\n",
    "plot_tensors_2d(q_i, k_i, q_i @ k_i)"
   ]
  },
  {
   "cell_type": "code",
   "execution_count": 297,
   "id": "99491ebc",
   "metadata": {},
   "outputs": [
    {
     "data": {
      "text/plain": [
       "tensor([[-0.0374,  0.3752,  0.2246],\n",
       "        [ 0.4144,  0.3780, -0.0956],\n",
       "        [-0.5878,  2.0916,  0.8271]])"
      ]
     },
     "execution_count": 297,
     "metadata": {},
     "output_type": "execute_result"
    }
   ],
   "source": [
    "q_k = torch.matmul(Q, K.transpose(-2, -1))\n",
    "q_k"
   ]
  },
  {
   "cell_type": "code",
   "execution_count": 298,
   "id": "79a884fd",
   "metadata": {},
   "outputs": [
    {
     "data": {
      "text/plain": [
       "tensor([[-0.0216,  0.2167,  0.1297],\n",
       "        [ 0.2393,  0.2182, -0.0552],\n",
       "        [-0.3394,  1.2076,  0.4775]])"
      ]
     },
     "execution_count": 298,
     "metadata": {},
     "output_type": "execute_result"
    }
   ],
   "source": [
    "attention = q_k / torch.sqrt(torch.tensor([DIMENSAO_EMBEDDINGS]))\n",
    "attention"
   ]
  },
  {
   "cell_type": "code",
   "execution_count": 299,
   "id": "02ec7bd4",
   "metadata": {},
   "outputs": [
    {
     "data": {
      "text/plain": [
       "tensor([[0.2913, 0.3697, 0.3389],\n",
       "        [0.3671, 0.3595, 0.2735],\n",
       "        [0.1256, 0.5901, 0.2843]])"
      ]
     },
     "execution_count": 299,
     "metadata": {},
     "output_type": "execute_result"
    }
   ],
   "source": [
    "attention = torch.softmax(attention, dim=-1)\n",
    "attention"
   ]
  },
  {
   "cell_type": "code",
   "execution_count": 300,
   "id": "a8847152",
   "metadata": {},
   "outputs": [
    {
     "data": {
      "text/plain": [
       "tensor([[0.2913, 0.3697, 0.3389],\n",
       "        [0.3671, 0.3595, 0.2735],\n",
       "        [0.1256, 0.5901, 0.2843]])"
      ]
     },
     "execution_count": 300,
     "metadata": {},
     "output_type": "execute_result"
    }
   ],
   "source": [
    "attention @ X"
   ]
  }
 ],
 "metadata": {
  "kernelspec": {
   "display_name": "gandalf",
   "language": "python",
   "name": "python3"
  },
  "language_info": {
   "codemirror_mode": {
    "name": "ipython",
    "version": 3
   },
   "file_extension": ".py",
   "mimetype": "text/x-python",
   "name": "python",
   "nbconvert_exporter": "python",
   "pygments_lexer": "ipython3",
   "version": "3.10.14"
  }
 },
 "nbformat": 4,
 "nbformat_minor": 5
}
