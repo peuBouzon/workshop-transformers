{
 "cells": [
  {
   "cell_type": "markdown",
   "id": "2dbfbfe4",
   "metadata": {},
   "source": [
    "## \"Add & Norm\""
   ]
  },
  {
   "cell_type": "code",
   "execution_count": 1,
   "id": "1fe0f165",
   "metadata": {},
   "outputs": [],
   "source": [
    "import torch\n",
    "import torch.nn as nn"
   ]
  },
  {
   "cell_type": "code",
   "execution_count": 2,
   "id": "e721c23a",
   "metadata": {},
   "outputs": [
    {
     "name": "stdout",
     "output_type": "stream",
     "text": [
      "Antes da normalização:\n",
      "tensor([[[ 6.0468, 12.3463, 12.0480, 12.1152],\n",
      "         [ 9.8421,  7.1680,  5.9095, 10.7117],\n",
      "         [10.4503, 14.3728, 14.3686, 12.6652]],\n",
      "\n",
      "        [[11.9353, 14.6096, 10.0838,  8.2741],\n",
      "         [ 9.9308, 14.2645,  7.6739, 13.5407],\n",
      "         [14.4281, 11.1288, 13.1489,  7.8336]]])\n",
      "\n",
      "Média: 11.04\n",
      "Desvio padrão: 2.75\n"
     ]
    }
   ],
   "source": [
    "BATCH_SIZE = 2  # quantidade de sequências no lote\n",
    "BLOCK_SIZE = 3  # tamanho máximo da sequência\n",
    "D_MODEL = 4     # dimensão dos embeddings\n",
    "\n",
    "X = torch.rand(BATCH_SIZE, BLOCK_SIZE, D_MODEL) * 10 + 5\n",
    "print(\"Antes da normalização:\")\n",
    "print(X)\n",
    "print(f\"\\nMédia: {X.mean().item():.2f}\", )\n",
    "print(f\"Desvio padrão: {X.std().item():.2f}\", )"
   ]
  },
  {
   "cell_type": "code",
   "execution_count": 3,
   "id": "4d248f01",
   "metadata": {},
   "outputs": [
    {
     "name": "stdout",
     "output_type": "stream",
     "text": [
      "\n",
      "Depois da normalização:\n",
      "\n",
      "Média: 0.00000002\n",
      "Desvio padrão: 1.02150679\n"
     ]
    }
   ],
   "source": [
    "\n",
    "layer_norm = nn.LayerNorm(D_MODEL)\n",
    "output = layer_norm(X)\n",
    "\n",
    "print(\"\\nDepois da normalização:\")\n",
    "print(f\"\\nMédia: {output.mean().item():.8f}\", )\n",
    "print(f\"Desvio padrão: {output.std().item():.8f}\", )"
   ]
  }
 ],
 "metadata": {
  "kernelspec": {
   "display_name": "gandalf",
   "language": "python",
   "name": "python3"
  },
  "language_info": {
   "codemirror_mode": {
    "name": "ipython",
    "version": 3
   },
   "file_extension": ".py",
   "mimetype": "text/x-python",
   "name": "python",
   "nbconvert_exporter": "python",
   "pygments_lexer": "ipython3",
   "version": "3.10.14"
  }
 },
 "nbformat": 4,
 "nbformat_minor": 5
}
