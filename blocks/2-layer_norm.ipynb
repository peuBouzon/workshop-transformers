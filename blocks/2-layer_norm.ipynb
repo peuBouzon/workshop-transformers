{
 "cells": [
  {
   "cell_type": "markdown",
   "id": "2dbfbfe4",
   "metadata": {},
   "source": [
    "## Layer Norm"
   ]
  },
  {
   "cell_type": "code",
   "execution_count": null,
   "id": "e721c23a",
   "metadata": {},
   "outputs": [
    {
     "name": "stdout",
     "output_type": "stream",
     "text": [
      "Antes da normalização:\n",
      "tensor([[[11.7263,  5.1184, 13.0671,  7.9714],\n",
      "         [11.5334,  7.0929,  7.0041,  5.7985],\n",
      "         [12.0272,  8.4864, 11.7820, 12.2080]],\n",
      "\n",
      "        [[11.5325,  7.4354, 12.5021, 11.6515],\n",
      "         [12.6215,  6.1872, 10.0437, 12.6979],\n",
      "         [ 5.2296, 11.6148,  7.4066, 14.0425]]])\n",
      "\n",
      "Média: 9.87\n",
      "Desvio padrão: 2.85\n"
     ]
    }
   ],
   "source": [
    "import torch\n",
    "import torch.nn as nn\n",
    "\n",
    "TAMANHO_DO_LOTE = 2\n",
    "COMPRIMENTO_DA_SEQUENCIA = 3\n",
    "DIMENSAO_DOS_EMBEDDINGS = 4\n",
    "\n",
    "X = torch.rand(TAMANHO_DO_LOTE, COMPRIMENTO_DA_SEQUENCIA, DIMENSAO_DOS_EMBEDDINGS) * 10 + 5\n",
    "print(\"Antes da normalização:\")\n",
    "print(X)\n",
    "print(f\"\\nMédia: {X.mean().item():.2f}\", )\n",
    "print(f\"Desvio padrão: {X.std().item():.2f}\", )"
   ]
  },
  {
   "cell_type": "code",
   "execution_count": 68,
   "id": "4d248f01",
   "metadata": {},
   "outputs": [
    {
     "name": "stdout",
     "output_type": "stream",
     "text": [
      "\n",
      "Depois da normalização:\n",
      "\n",
      "Média (deve ser próxima de 0): -0.00000002\n",
      "Desvio padrão (deve ser próximo de 1): 1.02150679\n"
     ]
    }
   ],
   "source": [
    "\n",
    "layer_norm = nn.LayerNorm(DIMENSAO_DOS_EMBEDDINGS)\n",
    "output = layer_norm(X)\n",
    "\n",
    "print(\"\\nDepois da normalização:\")\n",
    "print(f\"\\nMédia (deve ser próxima de 0): {output.mean().item():.8f}\", )\n",
    "print(f\"Desvio padrão (deve ser próximo de 1): {output.std().item():.8f}\", )"
   ]
  }
 ],
 "metadata": {
  "kernelspec": {
   "display_name": "gandalf",
   "language": "python",
   "name": "python3"
  },
  "language_info": {
   "codemirror_mode": {
    "name": "ipython",
    "version": 3
   },
   "file_extension": ".py",
   "mimetype": "text/x-python",
   "name": "python",
   "nbconvert_exporter": "python",
   "pygments_lexer": "ipython3",
   "version": "3.10.14"
  }
 },
 "nbformat": 4,
 "nbformat_minor": 5
}
