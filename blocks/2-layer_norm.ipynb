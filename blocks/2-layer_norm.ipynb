{
 "cells": [
  {
   "cell_type": "markdown",
   "id": "2dbfbfe4",
   "metadata": {},
   "source": [
    "## \"Add & Norm\""
   ]
  },
  {
   "cell_type": "code",
   "execution_count": 1,
   "id": "1fe0f165",
   "metadata": {},
   "outputs": [],
   "source": [
    "import torch\n",
    "import torch.nn as nn"
   ]
  },
  {
   "cell_type": "code",
   "execution_count": 2,
   "id": "e721c23a",
   "metadata": {},
   "outputs": [
    {
     "name": "stdout",
     "output_type": "stream",
     "text": [
      "Antes da normalização:\n",
      "tensor([[[ 5.2075, 13.7138, 12.9870,  5.1216],\n",
      "         [ 7.3052, 12.2215,  6.2972, 13.4071],\n",
      "         [14.1706, 12.6878, 13.6312,  7.2494]],\n",
      "\n",
      "        [[14.0982, 14.5976,  6.3454,  5.5906],\n",
      "         [ 6.0468, 13.6368, 12.8030, 11.2365],\n",
      "         [13.0591,  7.6475,  9.6098, 11.2241]]])\n",
      "\n",
      "Média: 10.41\n",
      "Desvio padrão: 3.45\n"
     ]
    }
   ],
   "source": [
    "BATCH_SIZE = 2  # quantidade de sequências no lote\n",
    "BLOCK_SIZE = 3  # tamanho máximo da sequência\n",
    "D_MODEL = 4     # dimensão dos embeddings\n",
    "\n",
    "X = torch.rand(BATCH_SIZE, BLOCK_SIZE, D_MODEL) * 10 + 5\n",
    "print(\"Antes da normalização:\")\n",
    "print(X)\n",
    "print(f\"\\nMédia: {X.mean().item():.2f}\", )\n",
    "print(f\"Desvio padrão: {X.std().item():.2f}\", )"
   ]
  },
  {
   "cell_type": "code",
   "execution_count": 3,
   "id": "4d248f01",
   "metadata": {},
   "outputs": [
    {
     "name": "stdout",
     "output_type": "stream",
     "text": [
      "\n",
      "Depois da normalização:\n",
      "\n",
      "Média: -0.00000001\n",
      "Desvio padrão: 1.02150726\n"
     ]
    }
   ],
   "source": [
    "\n",
    "layer_norm = nn.LayerNorm(D_MODEL)\n",
    "output = layer_norm(X)\n",
    "\n",
    "print(\"\\nDepois da normalização:\")\n",
    "print(f\"\\nMédia: {output.mean().item():.8f}\", )\n",
    "print(f\"Desvio padrão: {output.std().item():.8f}\", )"
   ]
  }
 ],
 "metadata": {
  "kernelspec": {
   "display_name": "gandalf",
   "language": "python",
   "name": "python3"
  },
  "language_info": {
   "codemirror_mode": {
    "name": "ipython",
    "version": 3
   },
   "file_extension": ".py",
   "mimetype": "text/x-python",
   "name": "python",
   "nbconvert_exporter": "python",
   "pygments_lexer": "ipython3",
   "version": "3.10.14"
  }
 },
 "nbformat": 4,
 "nbformat_minor": 5
}
