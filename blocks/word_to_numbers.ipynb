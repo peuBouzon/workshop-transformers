{
 "cells": [
  {
   "cell_type": "markdown",
   "id": "1f802e1e",
   "metadata": {},
   "source": [
    "## Preliminares: transformação de texto em números"
   ]
  },
  {
   "cell_type": "markdown",
   "id": "40fc268d",
   "metadata": {},
   "source": [
    "![Transformação de texto em números](tokenization.png \"Tranformação de texto em números\")"
   ]
  },
  {
   "cell_type": "markdown",
   "id": "5053d369",
   "metadata": {},
   "source": [
    "## Tokenização"
   ]
  },
  {
   "cell_type": "code",
   "execution_count": 205,
   "id": "8a487bf7",
   "metadata": {},
   "outputs": [
    {
     "data": {
      "text/plain": [
       "'SUBJECTIVE:,  This 23-year-old white female presents with complaint of allergies.  She used to have allergies when she lived in Seattle but she thinks they are worse here.  In the past, she has tried Claritin, and Zyrtec.  Both worked for short time but then seemed to lose effectiveness.  She has used Allegra also.  She used that last summer and she began using it again two weeks ago.  It does not appear to be working very well.  She has used over-the-counter sprays but no prescription nasal sprays.  She does have asthma but doest not require daily medication for this and does not think it is flaring up.,MEDICATIONS: , Her only medication currently is Ortho Tri-Cyclen and the Allegra.,ALLERGIES: , She has no known medicine allergies.,OBJECTIVE:,Vitals:  Weight was 130 pounds and blood pressure 124/78.,HEENT:  Her throat was mildly erythematous without exudate.  Nasal mucosa was erythematous and swollen.  Only clear drainage was seen.  TMs were clear.,Neck:  Supple without adenopathy.,Lungs:  Clear.,ASSESSMENT:,  Allergic rhinitis.,PLAN:,1.  She will try Zyrtec instead of Allegra again.  Another option will be to use loratadine.  She does not think she has prescription coverage so that might be cheaper.,2.  Samples of Nasonex two sprays in each nostril given for three weeks.  A prescription was written as well.'"
      ]
     },
     "execution_count": 205,
     "metadata": {},
     "output_type": "execute_result"
    }
   ],
   "source": [
    "import pandas as pd\n",
    "\n",
    "df = pd.read_csv('mtsamples.csv')\n",
    "sentences = df['transcription'].dropna().astype(str).values\n",
    "sentences[0]"
   ]
  },
  {
   "cell_type": "markdown",
   "id": "e674dc55",
   "metadata": {},
   "source": [
    "### Nível de caractere"
   ]
  },
  {
   "cell_type": "code",
   "execution_count": 206,
   "id": "4627024d",
   "metadata": {},
   "outputs": [
    {
     "name": "stdout",
     "output_type": "stream",
     "text": [
      "\n",
      "Tamanho do vocabulário: 84\n"
     ]
    }
   ],
   "source": [
    "class CharacterLevelTokenizer:\n",
    "    def __init__(self):\n",
    "        self.token_to_idx = {}\n",
    "        self.idx_to_token = {}\n",
    "\n",
    "    def clean_sentence(self, sentence):\n",
    "        return str(sentence).lower()\n",
    "\n",
    "    def build_vocab(self, sentences):\n",
    "        \"\"\"Monta o vocabulário a partir de uma lista de sentenças.\"\"\"\n",
    "        unique_chars = set()\n",
    "        \n",
    "        for sentence in sentences:\n",
    "            cleaned_sentence = self.clean_sentence(sentence)\n",
    "            unique_chars.update(list(cleaned_sentence))\n",
    "\n",
    "        self.token_to_idx = {'[PAD]': 0, '[UNK]': 1, '[CLS]': 2, '[SEP]': 3} # Tokens especiais\n",
    "        for i, char in enumerate(sorted(list(unique_chars)), 4):\n",
    "            self.token_to_idx[char] = i\n",
    "\n",
    "        self.idx_to_token = {i: c for c, i in self.token_to_idx.items()}\n",
    "\n",
    "    def tokenize(self, sentence):\n",
    "        \"\"\"Converte uma sentença em uma lista de caracteres (tokens).\"\"\"\n",
    "        cleaned_sentence = self.clean_sentence(sentence)\n",
    "        return list(cleaned_sentence)\n",
    "\n",
    "    def convert_tokens_to_ids(self, tokens):\n",
    "        \"\"\"Converte uma lista de tokens (caracteres) em seus IDs correspondentes.\"\"\"\n",
    "        return [self.token_to_idx.get(token, self.token_to_idx['[UNK]']) for token in tokens]\n",
    "\n",
    "    def get_vocab_size(self):\n",
    "        return len(self.token_to_idx)\n",
    "\n",
    "tokenizer = CharacterLevelTokenizer()\n",
    "tokenizer.build_vocab(sentences)\n",
    "print(f\"\\nTamanho do vocabulário: {tokenizer.get_vocab_size()}\")"
   ]
  },
  {
   "cell_type": "code",
   "execution_count": 207,
   "id": "6906fbd5",
   "metadata": {},
   "outputs": [
    {
     "name": "stdout",
     "output_type": "stream",
     "text": [
      "['s', 'h', 'e', ' ', 'h', 'a', 's', ' ', 'a', ' ', 't', 'e', 'r', 'r', 'i', 'b', 'l', 'e', ' ', 'd', 'i', 's', 'e', 'a', 's', 'e']\n"
     ]
    }
   ],
   "source": [
    "tokens = tokenizer.tokenize(\"She has a terrible disease\")\n",
    "print(tokens)"
   ]
  },
  {
   "cell_type": "code",
   "execution_count": 208,
   "id": "bcf3e95e",
   "metadata": {},
   "outputs": [],
   "source": [
    "import re\n",
    "from collections import Counter\n",
    "\n",
    "class MostFrequentWordsTokenizer:\n",
    "    def __init__(self, vocab_size):\n",
    "        self.vocab_size = vocab_size\n",
    "        self.token_to_idx = {}\n",
    "        self.idx_to_token = {}\n",
    "\n",
    "    def clean_sentence(self, sentence):\n",
    "        sentence = sentence.lower()\n",
    "        return re.sub(r'[^a-z0-9\\s]', '', sentence)\n",
    "\n",
    "    def build_vocab(self, sentences):\n",
    "        words = []\n",
    "        for sentence in sentences:\n",
    "            words.extend(self.clean_sentence(str(sentence)).split())\n",
    "\n",
    "        word_counts = Counter(words)\n",
    "        most_common_words = word_counts.most_common(self.vocab_size - 4)\n",
    "\n",
    "        self.token_to_idx = {'[PAD]': 0, '[UNK]': 1, '[CLS]': 2, '[SEP]': 3} # Tokens especiais\n",
    "        for i, (word, _) in enumerate(most_common_words, 4):\n",
    "            self.token_to_idx[word] = i\n",
    "\n",
    "        self.idx_to_token = {i: w for w, i in self.token_to_idx.items()}\n",
    "\n",
    "    def tokenize(self, sentence):\n",
    "        cleaned_sentence = self.clean_sentence(str(sentence))\n",
    "        return cleaned_sentence.split()\n",
    "\n",
    "    def convert_tokens_to_ids(self, tokens):\n",
    "        return [self.token_to_idx.get(token, self.token_to_idx['[UNK]']) for token in tokens]\n",
    "    \n",
    "    def get_vocab_size(self):\n",
    "        return len(self.token_to_idx)\n",
    "    \n",
    "tokenizer = MostFrequentWordsTokenizer(vocab_size=256)\n",
    "tokenizer.build_vocab(sentences)"
   ]
  },
  {
   "cell_type": "code",
   "execution_count": 209,
   "id": "aaa0e083",
   "metadata": {},
   "outputs": [
    {
     "data": {
      "text/plain": [
       "['she', 'has', 'a', 'terrible', 'disease']"
      ]
     },
     "execution_count": 209,
     "metadata": {},
     "output_type": "execute_result"
    }
   ],
   "source": [
    "tokenizer.tokenize(\"She has a terrible disease\")"
   ]
  },
  {
   "cell_type": "markdown",
   "id": "0a57d173",
   "metadata": {},
   "source": [
    "### Nível de sub-palavras"
   ]
  },
  {
   "cell_type": "code",
   "execution_count": 210,
   "id": "9fb3a47f",
   "metadata": {},
   "outputs": [
    {
     "name": "stdout",
     "output_type": "stream",
     "text": [
      "\n",
      "\n",
      "\n"
     ]
    }
   ],
   "source": [
    "from tokenizers import Tokenizer\n",
    "from tokenizers.models import BPE\n",
    "from tokenizers.trainers import BpeTrainer\n",
    "from tokenizers.pre_tokenizers import Whitespace\n",
    "\n",
    "class BytePairEncodingTokenizer:\n",
    "    def __init__(self, vocab_size):\n",
    "        self.vocab_size = vocab_size\n",
    "        self.tokenizer = Tokenizer(BPE(unk_token=\"[UNK]\"))\n",
    "        self.tokenizer.pre_tokenizer = Whitespace()\n",
    "        self.special_tokens = [\"[PAD]\", \"[UNK]\", \"[CLS]\", \"[SEP]\"] # Tokens especiais\n",
    "\n",
    "    def build_vocab(self, sentences):\n",
    "        trainer = BpeTrainer(vocab_size=self.vocab_size, special_tokens=self.special_tokens)\n",
    "        self.tokenizer.train_from_iterator(sentences, trainer=trainer)\n",
    "\n",
    "    def tokenize(self, text):\n",
    "        return self.tokenizer.encode(text).tokens\n",
    "\n",
    "    def convert_tokens_to_ids(self, tokens):\n",
    "        return [self.tokenizer.token_to_id(token) for token in tokens]\n",
    "    \n",
    "    def get_vocab_size(self):\n",
    "        return self.tokenizer.get_vocab_size()\n",
    "    \n",
    "tokenizer = BytePairEncodingTokenizer(vocab_size=2048)\n",
    "tokenizer.build_vocab(sentences)\n"
   ]
  },
  {
   "cell_type": "code",
   "execution_count": 211,
   "id": "b153c9e9",
   "metadata": {},
   "outputs": [
    {
     "data": {
      "text/plain": [
       "['She', 'has', 'a', 'ter', 'r', 'ib', 'le', 'disease']"
      ]
     },
     "execution_count": 211,
     "metadata": {},
     "output_type": "execute_result"
    }
   ],
   "source": [
    "tokenizer.tokenize(\"She has a terrible disease\")"
   ]
  },
  {
   "cell_type": "markdown",
   "id": "e1a7ead8",
   "metadata": {},
   "source": [
    "## Conversão para IDs"
   ]
  },
  {
   "cell_type": "code",
   "execution_count": 212,
   "id": "0e1e6b7f",
   "metadata": {},
   "outputs": [
    {
     "name": "stdout",
     "output_type": "stream",
     "text": [
      "[229, 218, 65, 157, 82, 274, 129, 590]\n"
     ]
    }
   ],
   "source": [
    "tokens = tokenizer.tokenize(\"She has a terrible disease\")\n",
    "print(tokenizer.convert_tokens_to_ids(tokens))"
   ]
  },
  {
   "cell_type": "markdown",
   "id": "f24e2db6",
   "metadata": {},
   "source": [
    "## Embeddings"
   ]
  },
  {
   "cell_type": "code",
   "execution_count": 213,
   "id": "11304059",
   "metadata": {},
   "outputs": [],
   "source": [
    "import torch\n",
    "import torch.nn as nn\n",
    "\n",
    "VOCAB_SIZE = 256\n",
    "EMBEDDING_DIM = 768\n",
    "\n",
    "tokenizer = MostFrequentWordsTokenizer(vocab_size=256)\n",
    "tokenizer.build_vocab(sentences)\n",
    "\n",
    "embedding_layer = nn.Embedding(num_embeddings=VOCAB_SIZE, embedding_dim=EMBEDDING_DIM)"
   ]
  },
  {
   "cell_type": "code",
   "execution_count": 214,
   "id": "67638fa2",
   "metadata": {},
   "outputs": [
    {
     "name": "stdout",
     "output_type": "stream",
     "text": [
      "Dimensões dos embeddings: torch.Size([3, 768])\n",
      "\n"
     ]
    }
   ],
   "source": [
    "tokens = tokenizer.tokenize(\"She is sick\")\n",
    "token_ids = tokenizer.convert_tokens_to_ids(tokens)\n",
    "embeddings = embedding_layer(torch.tensor(token_ids))\n",
    "\n",
    "print(f'Dimensões dos embeddings: {embeddings.shape}\\n')"
   ]
  },
  {
   "cell_type": "code",
   "execution_count": 215,
   "id": "f430927b",
   "metadata": {},
   "outputs": [
    {
     "data": {
      "text/plain": [
       "tensor([[-0.6247,  1.3177, -0.0310,  ...,  0.4470, -1.1436,  1.2792],\n",
       "        [ 0.2389, -0.0877, -0.9182,  ...,  0.2894, -1.1512,  0.5023],\n",
       "        [-0.0336,  0.2910,  1.9524,  ...,  1.4792, -0.9003, -0.1337]],\n",
       "       grad_fn=<EmbeddingBackward0>)"
      ]
     },
     "execution_count": 215,
     "metadata": {},
     "output_type": "execute_result"
    }
   ],
   "source": [
    "embeddings"
   ]
  },
  {
   "cell_type": "markdown",
   "id": "19f5f4bc",
   "metadata": {},
   "source": [
    "## Embeddings Posicionais"
   ]
  },
  {
   "cell_type": "markdown",
   "id": "17a9b3c1",
   "metadata": {},
   "source": [
    "### Truncamento e padding"
   ]
  },
  {
   "cell_type": "code",
   "execution_count": 216,
   "id": "6afe168d",
   "metadata": {},
   "outputs": [],
   "source": [
    "class MostFrequentWordsTokenizer:\n",
    "    def __init__(self, vocab_size, max_len):\n",
    "        self.vocab_size = vocab_size\n",
    "        self.max_len = max_len\n",
    "        self.token_to_idx = {}\n",
    "        self.idx_to_token = {}\n",
    "\n",
    "    def clean_sentence(self, sentence):\n",
    "        sentence = sentence.lower()\n",
    "        return re.sub(r'[^a-z0-9\\s]', '', sentence)\n",
    "\n",
    "    def build_vocab(self, sentences):\n",
    "        words = []\n",
    "        for sentence in sentences:\n",
    "            words.extend(self.clean_sentence(str(sentence)).split())\n",
    "\n",
    "        word_counts = Counter(words)\n",
    "        most_common_words = word_counts.most_common(self.vocab_size - 4)\n",
    "\n",
    "        self.token_to_idx = {'[PAD]': 0, '[UNK]': 1, '[CLS]': 2, '[SEP]': 3} # Tokens especiais\n",
    "        for i, (word, _) in enumerate(most_common_words, 4):\n",
    "            self.token_to_idx[word] = i\n",
    "\n",
    "        self.idx_to_token = {i: w for w, i in self.token_to_idx.items()}\n",
    "\n",
    "    def tokenize(self, sentence):\n",
    "        cleaned_sentence = self.clean_sentence(str(sentence))\n",
    "        return cleaned_sentence.split()\n",
    "\n",
    "    def convert_tokens_to_ids(self, tokens):\n",
    "        return [self.token_to_idx.get(token, self.token_to_idx['[UNK]']) for token in tokens]\n",
    "    \n",
    "    def get_vocab_size(self):\n",
    "        return len(self.token_to_idx)\n",
    "\n",
    "    ################################################################\n",
    "    def encode(self, sentences):\n",
    "        all_input_ids = []\n",
    "        pad_id = self.token_to_idx['[PAD]']\n",
    "\n",
    "        for sentence in sentences:\n",
    "            # Tokeniza e converte para IDs\n",
    "            tokens = self.tokenize(sentence)\n",
    "            ids = self.convert_tokens_to_ids(tokens)\n",
    "\n",
    "            # Truca sequencia se maior que max_len\n",
    "            if len(ids) > self.max_len:\n",
    "                ids = ids[:self.max_len]\n",
    "            \n",
    "            # Completa com [PAD] se menor que max_len\n",
    "            padding_len = self.max_len - len(ids)\n",
    "            ids.extend([pad_id] * padding_len)\n",
    "\n",
    "            all_input_ids.append(ids)\n",
    "        \n",
    "        return torch.tensor(all_input_ids, dtype=torch.long)\n",
    "    ################################################################\n"
   ]
  },
  {
   "cell_type": "markdown",
   "id": "05d2bcc1",
   "metadata": {},
   "source": [
    "### Tamanho máximo de sequência"
   ]
  },
  {
   "cell_type": "code",
   "execution_count": 217,
   "id": "bb27f5d5",
   "metadata": {},
   "outputs": [
    {
     "name": "stdout",
     "output_type": "stream",
     "text": [
      "torch.Size([3, 8])\n"
     ]
    }
   ],
   "source": [
    "TAMANHO_MAX_SEQ = 8\n",
    "\n",
    "tokenizer = MostFrequentWordsTokenizer(vocab_size=256, max_len=TAMANHO_MAX_SEQ)\n",
    "tokenizer.build_vocab(sentences)\n",
    "\n",
    "token_ids = tokenizer.encode([\"She has the flu\",\n",
    "                        \"He is sick\",\n",
    "                        \"They have travelled to China in the last weekeend. They could have been infected with covid-19.\"])\n",
    "print(token_ids.shape)\n"
   ]
  },
  {
   "cell_type": "code",
   "execution_count": 218,
   "id": "e94e8840",
   "metadata": {},
   "outputs": [
    {
     "data": {
      "text/plain": [
       "tensor([[ 15,  24,   4,   1,   0,   0,   0,   0],\n",
       "        [ 18,  12,   1,   0,   0,   0,   0,   0],\n",
       "        [222,  49,   1,   8,   1,  11,   4, 218]])"
      ]
     },
     "execution_count": 218,
     "metadata": {},
     "output_type": "execute_result"
    }
   ],
   "source": [
    "token_ids"
   ]
  },
  {
   "cell_type": "markdown",
   "id": "1193e4bf",
   "metadata": {},
   "source": [
    "### Embedding Posicionais aprendíveis\n",
    "\n",
    "```python"
   ]
  },
  {
   "cell_type": "code",
   "execution_count": 219,
   "id": "a4140cf6",
   "metadata": {},
   "outputs": [],
   "source": [
    "embeddings_posicionais = nn.Embedding(TAMANHO_MAX_SEQ, EMBEDDING_DIM)"
   ]
  },
  {
   "cell_type": "markdown",
   "id": "eafe94ad",
   "metadata": {},
   "source": [
    "### Embeddings posicionais absolutos (Senóides)\n",
    "\n",
    "$$PE_{(pos, 2i)} = \\sin\\left(\\frac{pos}{10000^{2i/d_{\\text{model}}}}\\right)$$\n",
    "$$PE_{(pos, 2i+1)} = \\cos\\left(\\frac{pos}{10000^{2i/d_{\\text{model}}}}\\right)$$"
   ]
  },
  {
   "cell_type": "code",
   "execution_count": 222,
   "id": "bb0baac8",
   "metadata": {},
   "outputs": [],
   "source": [
    "import torch\n",
    "import torch.nn as nn\n",
    "import matplotlib.pyplot as plt\n",
    "import seaborn as sns\n",
    "\n",
    "class SinusoidalPositionalEmbedding(nn.Module):\n",
    "    def __init__(self, d_model, max_len=5000):\n",
    "        super().__init__()\n",
    "        \n",
    "        positional_embeddings = torch.zeros(max_len, d_model)\n",
    "\n",
    "        position = torch.arange(0, max_len, dtype=torch.float).unsqueeze(1)\n",
    "\n",
    "        indices = torch.arange(0, d_model, 2).float()\n",
    "        \n",
    "        exponent = indices / d_model\n",
    "        \n",
    "        denominator = torch.pow(10000, exponent)\n",
    "        \n",
    "        argument = position / denominator\n",
    "\n",
    "        positional_embeddings[:, 0::2] = torch.sin(argument)\n",
    "        positional_embeddings[:, 1::2] = torch.cos(argument)\n",
    "        \n",
    "        self.register_buffer('positional_embeddings', positional_embeddings.unsqueeze(0))"
   ]
  },
  {
   "cell_type": "code",
   "execution_count": null,
   "id": "ce95a8c8",
   "metadata": {},
   "outputs": [
    {
     "data": {
      "image/png": "[encoded data removed]",
      "text/plain": [
       "<Figure size 1200x800 with 2 Axes>"
      ]
     },
     "metadata": {},
     "output_type": "display_data"
    }
   ],
   "source": [
    "def plot_positional_embeddings():\n",
    "    d_model = 64\n",
    "    max_len = 32\n",
    "    \n",
    "    pos_encoder = SinusoidalPositionalEmbedding(d_model, max_len)\n",
    "    \n",
    "    pe_matrix = pos_encoder.positional_embeddings.squeeze(0).numpy()\n",
    "    plt.figure(figsize=(12, 8))\n",
    "    sns.heatmap(pe_matrix, cmap=\"viridis\", cbar=True)\n",
    "    plt.title(\"Encoding positional senoidal\")\n",
    "    plt.xlabel(\"Dimensão do embedding \")\n",
    "    plt.ylabel(\"Posição do token\")\n",
    "    plt.show()\n",
    "\n",
    "plot_positional_embeddings()"
   ]
  },
  {
   "cell_type": "markdown",
   "id": "cc02fd36",
   "metadata": {},
   "source": [
    "### Analogia com números binários"
   ]
  },
  {
   "cell_type": "markdown",
   "id": "820f023d",
   "metadata": {},
   "source": [
    "\\begin{array}{|c|c|c|c|}\n",
    "\\hline\n",
    "\\textbf{Número} & \\textbf{$2^2$} & \\textbf{$2^1$} & \\textbf{$2^0$} \\\\\n",
    "\\hline\n",
    "\\textbf{0} & 0 & 0 & 0 \\\\\n",
    "\\textbf{1} & 0 & 0 & 1 \\\\\n",
    "\\textbf{2} & 0 & 1 & 0 \\\\\n",
    "\\textbf{3} & 0 & 1 & 1 \\\\\n",
    "\\textbf{4} & 1 & 0 & 0 \\\\\n",
    "\\textbf{5} & 1 & 0 & 1 \\\\\n",
    "\\hline\n",
    "\\end{array}"
   ]
  }
 ],
 "metadata": {
  "kernelspec": {
   "display_name": "gandalf",
   "language": "python",
   "name": "python3"
  },
  "language_info": {
   "codemirror_mode": {
    "name": "ipython",
    "version": 3
   },
   "file_extension": ".py",
   "mimetype": "text/x-python",
   "name": "python",
   "nbconvert_exporter": "python",
   "pygments_lexer": "ipython3",
   "version": "3.10.14"
  }
 },
 "nbformat": 4,
 "nbformat_minor": 5
}
