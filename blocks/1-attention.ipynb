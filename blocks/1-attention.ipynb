{
 "cells": [
  {
   "cell_type": "markdown",
   "id": "0d6047d6",
   "metadata": {},
   "source": [
    "## Vamos entender cada parte do \"Masked Multi-Head Attention\"\n",
    "\n",
    "### Motivação\n",
    "\n",
    "O embeddings da camada anterior são estáticos, ou seja, seu valor independe do contexto no qual o token está inserido.\n",
    "\n",
    "Idealmente, seria interessante alterar o valor do embedding de uma palavra com base nas palavras adjascentes.\n",
    "\n",
    "### Exemplo:\n",
    "\"Joana não atravessou a estrada porque ela\"\n",
    "\n",
    "<div style=\"text-align: center;\">\n",
    "    <img src=\"figures/attention.png\" alt=\"Atenção\" width=\"50%\"/>\n",
    "</div>"
   ]
  },
  {
   "cell_type": "code",
   "execution_count": 414,
   "id": "8a29c1aa",
   "metadata": {},
   "outputs": [],
   "source": [
    "import torch\n",
    "import torch.nn.functional as F\n",
    "from torch import nn"
   ]
  },
  {
   "cell_type": "markdown",
   "id": "13190c97",
   "metadata": {},
   "source": [
    "### Contextualizando embeddings do token \"ela\""
   ]
  },
  {
   "cell_type": "code",
   "execution_count": 415,
   "id": "973bd5ab",
   "metadata": {},
   "outputs": [
    {
     "data": {
      "text/plain": [
       "tensor([0.3000, 0.0000, 0.0000, 0.0000, 0.3000, 0.0000, 0.4000])"
      ]
     },
     "execution_count": 415,
     "metadata": {},
     "output_type": "execute_result"
    }
   ],
   "source": [
    "X = torch.tensor([[1., 0., 0., 0., 0., 0., 0.],    # \"Joana\"\n",
    "                  [0., 1., 0., 0., 0., 0., 0.],    # \"não\"\n",
    "                  [0., 0., 1., 0., 0., 0., 0.],    # \"atravessou\"\n",
    "                  [0., 0., 0., 1., 0., 0., 0.],    # \"a\"\n",
    "                  [0., 0., 0., 0., 1., 0., 0.],    # \"estrada\"\n",
    "                  [0., 0., 0., 0., 0., 1., 0.],    # \"porque\"\n",
    "                  [0., 0., 0., 0., 0., 0., 1.]],    # \"ela\"\n",
    ").float()\n",
    "\n",
    "embedding_ela_contextualizado = 0.3 * X[0] + 0.3 * X[4] + 0.4* X[6]\n",
    "embedding_ela_contextualizado"
   ]
  },
  {
   "cell_type": "markdown",
   "id": "9bc74893",
   "metadata": {},
   "source": [
    "### Generalizando: matrix de atenção"
   ]
  },
  {
   "cell_type": "code",
   "execution_count": 416,
   "id": "49c95581",
   "metadata": {},
   "outputs": [
    {
     "name": "stdout",
     "output_type": "stream",
     "text": [
      "Depois da atenção: \n",
      "\n",
      "[[1.  0.  0.  0.  0.  0.  0. ]\n",
      " [0.  1.  0.  0.  0.  0.  0. ]\n",
      " [0.  0.  1.  0.  0.  0.  0. ]\n",
      " [0.  0.  0.  1.  0.  0.  0. ]\n",
      " [0.  0.  0.  0.  1.  0.  0. ]\n",
      " [0.  0.  0.  0.  0.  1.  0. ]\n",
      " [0.3 0.  0.  0.  0.3 0.  0.4]]\n"
     ]
    }
   ],
   "source": [
    "attention = torch.tensor([\n",
    "                [1., 0., 0., 0., 0., 0., 0.], \n",
    "                [0., 1., 0., 0., 0., 0., 0.],\n",
    "                [0., 0., 1., 0., 0., 0., 0.],\n",
    "                [0., 0., 0., 1., 0., 0., 0.],\n",
    "                [0., 0., 0., 0., 1., 0., 0.], \n",
    "                [0., 0., 0., 0., 0., 1., 0.],\n",
    "                [0.3, 0., 0., 0., 0.3, 0., 0.4],    # mapa de atenção para a palavra \"ela\"\n",
    "]).float()\n",
    "\n",
    "\n",
    "print(f'Depois da atenção: \\n')\n",
    "print((attention.matmul(X)).numpy())"
   ]
  },
  {
   "cell_type": "markdown",
   "id": "9e8ef560",
   "metadata": {},
   "source": [
    "### Primeira parte \"Attention\"\n",
    "\n",
    "### Scaled Dot-Product"
   ]
  },
  {
   "cell_type": "markdown",
   "id": "27d30ee4",
   "metadata": {},
   "source": [
    "$$\n",
    "\\text{Attention}(Q, K, V) = \\text{softmax}\\left(\\frac{QK^T}{\\sqrt{d_k}}\\right)V\n",
    "$$"
   ]
  },
  {
   "cell_type": "markdown",
   "id": "afcaf548",
   "metadata": {},
   "source": [
    "### Query, Keys e Values: intuição"
   ]
  },
  {
   "cell_type": "markdown",
   "id": "26baa80a",
   "metadata": {},
   "source": [
    "### Entendendo melhor a equação:\n",
    "$$\n",
    "\\text{Attention}(Q, K, V) = \\text{softmax}\\left(\\frac{QK^T}{\\sqrt{d_k}}\\right)V\n",
    "$$"
   ]
  },
  {
   "cell_type": "markdown",
   "id": "5e3fcfba",
   "metadata": {},
   "source": [
    "#### O produto $QK^T$ é uma medida de similaridade entre a query e keys.\n",
    "\n",
    "A multiplicação matricial $QK^T$ pode ser decomposta em vários produtos escalares:\n",
    "\n",
    "$$\n",
    "\\vec{q_i} \\cdot \\vec{k_i} = \\|\\vec{q_i}\\| \\|\\vec{k_i}\\| \\cos(\\theta)\n",
    "$$"
   ]
  },
  {
   "cell_type": "code",
   "execution_count": 417,
   "id": "2d752a34",
   "metadata": {},
   "outputs": [
    {
     "data": {
      "image/png": "[encoded data removed]",
      "text/plain": [
       "<Figure size 600x250 with 1 Axes>"
      ]
     },
     "metadata": {},
     "output_type": "display_data"
    }
   ],
   "source": [
    "from utils import plot_tensors_2d\n",
    "\n",
    "q_i = torch.tensor([1, -0.5]).float()\n",
    "k_i = torch.tensor([-0.5, 1]).float()\n",
    "plot_tensors_2d(q_i, k_i, q_i @ k_i)"
   ]
  },
  {
   "cell_type": "markdown",
   "id": "f3499b9e",
   "metadata": {},
   "source": [
    "### Função softmax\n",
    "\n",
    "$$S(\\mathbf{z})_i = \\frac{e^{z_i}}{\\sum_{j=1}^{K} e^{z_j}}$$"
   ]
  },
  {
   "cell_type": "code",
   "execution_count": 418,
   "id": "5b4e3bde",
   "metadata": {},
   "outputs": [
    {
     "name": "stdout",
     "output_type": "stream",
     "text": [
      "Scores antes do Softmax: [ 1.  2. -1.]\n",
      "Porcentagens de atenção (após Softmax): ['0.25950', '0.70538', '0.03512']\n",
      "\n"
     ]
    }
   ],
   "source": [
    "qK = torch.tensor([1.0, 2.0, -1.0])\n",
    "probabilidades = F.softmax(qK, dim=0)\n",
    "print(f\"Scores antes do Softmax: {qK.numpy()}\")\n",
    "print(f\"Porcentagens de atenção (após Softmax): {[f'{p:.5f}' for p in probabilidades]}\\n\")"
   ]
  },
  {
   "cell_type": "markdown",
   "id": "bf6d0522",
   "metadata": {},
   "source": [
    "Dividimos o vetor de simularidade $QK^T$ por $\\sqrt{d_k}$ para evitar saturação da função softmax.\n"
   ]
  },
  {
   "cell_type": "code",
   "execution_count": 419,
   "id": "a2d9e65e",
   "metadata": {},
   "outputs": [
    {
     "name": "stdout",
     "output_type": "stream",
     "text": [
      "Scores antes do Softmax: [ 5. 10. -5.]\n",
      "Porcentagens de atenção (após Softmax): ['0.00669', '0.99331', '0.00000']\n",
      "\n"
     ]
    }
   ],
   "source": [
    "qK = torch.tensor([5.0, 10.0, -5.0])\n",
    "probabilidades = F.softmax(qK, dim=0)\n",
    "print(f\"Scores antes do Softmax: {qK.numpy()}\")\n",
    "print(f\"Porcentagens de atenção (após Softmax): {[f'{p:.5f}' for p in probabilidades]}\\n\")"
   ]
  },
  {
   "cell_type": "markdown",
   "id": "bb729434",
   "metadata": {},
   "source": [
    "### Implementação da função de atenção"
   ]
  },
  {
   "cell_type": "code",
   "execution_count": 420,
   "id": "4b11dad6",
   "metadata": {},
   "outputs": [],
   "source": [
    "class ScaledDotProductAttention(nn.Module):\n",
    "    def __init__(self, d_model, dropout):\n",
    "        super().__init__()\n",
    "        self.fc_q = nn.Linear(d_model, d_model)\n",
    "        self.fc_k = nn.Linear(d_model, d_model)\n",
    "        self.fc_v = nn.Linear(d_model, d_model)\n",
    "        self.scale = torch.sqrt(torch.FloatTensor([d_model]))\n",
    "        self.dropout = nn.Dropout(dropout)\n",
    "\n",
    "    def forward(self, x):\n",
    "        Q, K, V = self.fc_q(x), self.fc_k(x), self.fc_v(x)\n",
    "        qK = torch.matmul(Q, K.transpose(-2, -1)) / self.scale\n",
    "        attention = torch.softmax(qK, dim=-1)\n",
    "        return attention, torch.matmul(self.dropout(attention), V)"
   ]
  },
  {
   "cell_type": "code",
   "execution_count": 421,
   "id": "e465e260",
   "metadata": {},
   "outputs": [
    {
     "name": "stdout",
     "output_type": "stream",
     "text": [
      "Mapa de Atenção:\n",
      "[[[0.30517125 0.3518007  0.34302798]\n",
      "  [0.34265134 0.31043655 0.34691215]\n",
      "  [0.32037795 0.31516412 0.36445796]]]\n",
      "\n",
      "Valores escalados:\n",
      "[[[0.09005516 0.6183486  0.00632677]\n",
      "  [0.05684423 0.6182948  0.03358088]\n",
      "  [0.07641272 0.6058252  0.02379057]]]\n",
      "\n"
     ]
    }
   ],
   "source": [
    "BATCH_SIZE = 1 # \"Olá Mundo!\n",
    "SEQUENCE_LENGTH = 3 # 3 palavras\n",
    "EMBEDDING_DIM = 3 # dimensão do embedding\n",
    "\n",
    "att_layer = ScaledDotProductAttention(d_model=EMBEDDING_DIM, dropout=0.1)\n",
    "\n",
    "X = torch.randn(BATCH_SIZE, SEQUENCE_LENGTH, EMBEDDING_DIM)\n",
    "attention_map, scaled_values = att_layer(X)\n",
    "\n",
    "print(f'Mapa de Atenção:\\n{attention_map.detach().numpy()}\\n')\n",
    "print(f'Valores escalados:\\n{scaled_values.detach().numpy()}\\n')"
   ]
  },
  {
   "cell_type": "markdown",
   "id": "2cff0846",
   "metadata": {},
   "source": [
    "## \"Masked\": evitando valores futuros"
   ]
  },
  {
   "cell_type": "code",
   "execution_count": 422,
   "id": "5068e7d5",
   "metadata": {},
   "outputs": [
    {
     "data": {
      "text/plain": [
       "tensor([[1., 0., 0.],\n",
       "        [1., 1., 0.],\n",
       "        [1., 1., 1.]])"
      ]
     },
     "execution_count": 422,
     "metadata": {},
     "output_type": "execute_result"
    }
   ],
   "source": [
    "mask = torch.tril(torch.ones(EMBEDDING_DIM, EMBEDDING_DIM))\n",
    "mask"
   ]
  },
  {
   "cell_type": "code",
   "execution_count": 423,
   "id": "8db791ce",
   "metadata": {},
   "outputs": [],
   "source": [
    "class ScaledDotProductAttention(nn.Module):\n",
    "    def __init__(self, d_model, dropout):\n",
    "        super().__init__()\n",
    "        self.fc_q = nn.Linear(d_model, d_model)\n",
    "        self.fc_k = nn.Linear(d_model, d_model)\n",
    "        self.fc_v = nn.Linear(d_model, d_model)\n",
    "        self.scale = torch.sqrt(torch.FloatTensor([d_model]))\n",
    "        self.dropout = nn.Dropout(dropout)\n",
    "\n",
    "    def forward(self, x, mask=None):\n",
    "        Q, K, V = self.fc_q(x), self.fc_k(x), self.fc_v(x)\n",
    "        qK = torch.matmul(Q, K.transpose(-2, -1)) / self.scale\n",
    "        if mask is not None:\n",
    "            # Substituimos valores iguais a zero na máscara por um número negativo muito grande\n",
    "            qK = qK.masked_fill(mask == 0, -1e10)\n",
    "        # Desta forma, a função softmax se encarrega zerar a atenção nos tokens futuros\n",
    "        attention = torch.softmax(qK, dim=-1) # e^-1000000000 ~ 0\n",
    "        return attention, torch.matmul(self.dropout(attention), V)"
   ]
  },
  {
   "cell_type": "code",
   "execution_count": 424,
   "id": "303ec309",
   "metadata": {},
   "outputs": [
    {
     "name": "stdout",
     "output_type": "stream",
     "text": [
      "Mapa de Atenção:\n",
      "[[[1.         0.         0.        ]\n",
      "  [0.4973726  0.5026274  0.        ]\n",
      "  [0.33138165 0.2751819  0.3934365 ]]]\n",
      "\n"
     ]
    }
   ],
   "source": [
    "BATCH_SIZE = 1\n",
    "SEQUENCE_LENGTH = 3\n",
    "EMBEDDING_DIM = 3\n",
    "\n",
    "att_layer = ScaledDotProductAttention(d_model=EMBEDDING_DIM, dropout=0.1)\n",
    "\n",
    "X = torch.randn(BATCH_SIZE, SEQUENCE_LENGTH, EMBEDDING_DIM)\n",
    "attention_map, scaled_values = att_layer(X, mask=mask)\n",
    "\n",
    "print(f'Mapa de Atenção:\\n{attention_map.detach().numpy()}\\n')"
   ]
  },
  {
   "cell_type": "markdown",
   "id": "e42675aa",
   "metadata": {},
   "source": [
    "## \"Multi-Head\"\n",
    "\n",
    "<div style=\"text-align: center;\">\n",
    "    <img src=\"figures/mha.png\" alt=\"Multi-Head Attention\" width=\"50%\"/>\n",
    "</div>"
   ]
  },
  {
   "cell_type": "code",
   "execution_count": 425,
   "id": "94b7a84d",
   "metadata": {},
   "outputs": [],
   "source": [
    "class ScaledDotProductAttention(nn.Module):\n",
    "    def __init__(self, d_model, n_heads, dropout):\n",
    "        super().__init__()\n",
    "        self.n_heads = n_heads\n",
    "        self.fc_q = nn.Linear(d_model, n_heads)\n",
    "        self.fc_k = nn.Linear(d_model, n_heads)\n",
    "        self.fc_v = nn.Linear(d_model, n_heads)\n",
    "        self.scale = torch.sqrt(torch.FloatTensor([n_heads]))\n",
    "        self.dropout = nn.Dropout(dropout)\n",
    "\n",
    "    def forward(self, x, mask=None):\n",
    "        Q, K, V = self.fc_q(x), self.fc_k(x), self.fc_v(x)\n",
    "        qK = torch.matmul(Q, K.transpose(-2, -1)) / self.scale\n",
    "        if mask is not None:\n",
    "            # Substituimos valores iguais a zero na máscara por um número negativo muito grande\n",
    "            qK = qK.masked_fill(mask == 0, -1e10)\n",
    "        # Desta forma, a função softmax se encarrega zerar a atenção nos tokens futuros\n",
    "        attention = torch.softmax(qK, dim=-1) # e^-1000000000 ~ 0\n",
    "        return attention, torch.matmul(self.dropout(attention), V)\n",
    "\n",
    "\n",
    "class MultiHeadAttention(nn.Module):\n",
    "    def __init__(self, d_model, n_heads, dropout):\n",
    "        super().__init__()\n",
    "\n",
    "        assert d_model % n_heads == 0\n",
    "\n",
    "        self.heads = nn.ModuleList([\n",
    "            ScaledDotProductAttention(d_model, d_model // n_heads, dropout)\n",
    "            for _ in range(n_heads)\n",
    "        ])\n",
    "\n",
    "        self.linear = nn.Linear(d_model, d_model)\n",
    "        self.dropout = nn.Dropout(dropout)\n",
    "\n",
    "    def forward(self, x, mask=None):\n",
    "        head_outputs = [head(x, mask) for head in self.heads]\n",
    "        attention_maps = [out[0] for out in head_outputs]\n",
    "        scaled_values = [out[1] for out in head_outputs]\n",
    "\n",
    "        concatenated = torch.cat(scaled_values, dim=-1)\n",
    "        return attention_maps, self.linear(concatenated)"
   ]
  },
  {
   "cell_type": "code",
   "execution_count": 426,
   "id": "cd7d01b1",
   "metadata": {},
   "outputs": [
    {
     "data": {
      "text/plain": [
       "[tensor([[[1.0000, 0.0000, 0.0000],\n",
       "          [0.3275, 0.6725, 0.0000],\n",
       "          [0.4764, 0.3105, 0.2131]]], grad_fn=<SoftmaxBackward0>),\n",
       " tensor([[[1.0000, 0.0000, 0.0000],\n",
       "          [0.7450, 0.2550, 0.0000],\n",
       "          [0.3432, 0.3275, 0.3293]]], grad_fn=<SoftmaxBackward0>),\n",
       " tensor([[[1.0000, 0.0000, 0.0000],\n",
       "          [0.5674, 0.4326, 0.0000],\n",
       "          [0.1468, 0.3911, 0.4621]]], grad_fn=<SoftmaxBackward0>)]"
      ]
     },
     "execution_count": 426,
     "metadata": {},
     "output_type": "execute_result"
    }
   ],
   "source": [
    "mha = MultiHeadAttention(d_model=EMBEDDING_DIM, n_heads=3, dropout=0.1)\n",
    "attention_maps, values = mha(X, mask=mask)\n",
    "attention_maps"
   ]
  },
  {
   "cell_type": "code",
   "execution_count": 427,
   "id": "9cbf37b9",
   "metadata": {},
   "outputs": [
    {
     "data": {
      "text/plain": [
       "tensor([[[ 0.2705, -1.3190, -0.3792],\n",
       "         [ 0.2559, -1.0529, -0.4411],\n",
       "         [ 0.2173, -0.6071, -0.2119]]], grad_fn=<ViewBackward0>)"
      ]
     },
     "execution_count": 427,
     "metadata": {},
     "output_type": "execute_result"
    }
   ],
   "source": [
    "values"
   ]
  }
 ],
 "metadata": {
  "kernelspec": {
   "display_name": "gandalf",
   "language": "python",
   "name": "python3"
  },
  "language_info": {
   "codemirror_mode": {
    "name": "ipython",
    "version": 3
   },
   "file_extension": ".py",
   "mimetype": "text/x-python",
   "name": "python",
   "nbconvert_exporter": "python",
   "pygments_lexer": "ipython3",
   "version": "3.10.14"
  }
 },
 "nbformat": 4,
 "nbformat_minor": 5
}
