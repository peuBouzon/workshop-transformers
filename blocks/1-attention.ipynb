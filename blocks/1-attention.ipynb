{
 "cells": [
  {
   "cell_type": "markdown",
   "id": "0d6047d6",
   "metadata": {},
   "source": [
    "## Mecanismo de Atenção: motivação\n",
    "\n",
    "No último notebook, vimos que cada token é representado por um vetor chamado de embeddings.\n",
    "\n",
    "Estes embeddings são estáticos, ou seja, seu valor independe do contexto no qual o token está inserido.\n",
    "\n",
    "Idealmente, seria interessante alterar o valor do embedding de uma palavra com base nas palavras adjascentes.\n",
    "\n",
    "### Exemplo:\n",
    "\"Joana não atravessou a estrada porque ela estava cansada\"\n",
    "\n",
    "<div style=\"text-align: center;\">\n",
    "    <img src=\"figures/attention.png\" alt=\"Atenção\" width=\"50%\"/>\n",
    "</div>"
   ]
  },
  {
   "cell_type": "markdown",
   "id": "70f236df",
   "metadata": {},
   "source": [
    "####\n",
    "| Token      | Col 1 | Col 2 | Col 3 | Col 4 | Col 5 | Col 6 | Col 7 |\n",
    "|:-----------|:-----:|:-----:|:-----:|:-----:|:-----:|:-----:|:-----:|\n",
    "| Joana      | 1     | 0     | 0     | 0     | 0     | 0     | 0     |\n",
    "| não        | 0     | 1     | 0     | 0     | 0     | 0     | 0     |\n",
    "| atravessou | 0     | 0     | 1     | 0     | 0     | 0     | 0     |\n",
    "| a          | 0     | 0     | 0     | 1     | 0     | 0     | 0     |\n",
    "| estrada    | 0     | 0     | 0     | 0     | 1     | 0     | 0     |\n",
    "| porque     | 0     | 0     | 0     | 0     | 0     | 1     | 0     |\n",
    "| ela        | 0     | 0     | 0     | 0     | 0     | 0     | 1     |"
   ]
  },
  {
   "cell_type": "markdown",
   "id": "94ee1a62",
   "metadata": {},
   "source": [
    "#### O ideal seria ter uma representação numérica que capturasse o sentido da palavra \"ela\" no contexto da frase anterior. \n",
    "\n",
    "####\n",
    "| Token      | Col 1 | Col 2 | Col 3 | Col 4 | Col 5 | Col 6 | Col 7 |\n",
    "|:-----------|:-----:|:-----:|:-----:|:-----:|:-----:|:-----:|:-----:|\n",
    "| Joana      | 1     | 0     | 0     | 0     | 0     | 0     | 0     |\n",
    "| não        | 0     | 1     | 0     | 0     | 0     | 0     | 0     |\n",
    "| atravessou | 0     | 0     | 1     | 0     | 0     | 0     | 0     |\n",
    "| a          | 0     | 0     | 0     | 1     | 0     | 0     | 0     |\n",
    "| estrada    | 0     | 0     | 0     | 0     | 1     | 0     | 0     |\n",
    "| porque     | 0.3     | 0     | 0     | 0.3     | 0     | 0.4     | 0     |\n",
    "| ela        | 0     | 0     | 0     | 0     | 0     | 0     | 1     |"
   ]
  },
  {
   "cell_type": "code",
   "execution_count": 16,
   "id": "8a29c1aa",
   "metadata": {},
   "outputs": [],
   "source": [
    "import torch\n",
    "import torch.nn.functional as F\n",
    "from torch import nn"
   ]
  },
  {
   "cell_type": "code",
   "execution_count": 17,
   "id": "973bd5ab",
   "metadata": {},
   "outputs": [
    {
     "name": "stdout",
     "output_type": "stream",
     "text": [
      "\"Joana não atravessou a estrada porque ela\"\n",
      "\n",
      "[[1. 0. 0. 0. 0. 0. 0.]\n",
      " [0. 1. 0. 0. 0. 0. 0.]\n",
      " [0. 0. 1. 0. 0. 0. 0.]\n",
      " [0. 0. 0. 1. 0. 0. 0.]\n",
      " [0. 0. 0. 0. 1. 0. 0.]\n",
      " [0. 0. 0. 0. 0. 1. 0.]\n",
      " [0. 0. 0. 0. 0. 0. 1.]]\n"
     ]
    }
   ],
   "source": [
    "X = torch.tensor([[1., 0., 0., 0., 0., 0., 0.],    # \"Joana\"\n",
    "                  [0., 1., 0., 0., 0., 0., 0.],    # \"não\"\n",
    "                  [0., 0., 1., 0., 0., 0., 0.],    # \"atravessou\"\n",
    "                  [0., 0., 0., 1., 0., 0., 0.],    # \"a\"\n",
    "                  [0., 0., 0., 0., 1., 0., 0.],    # \"estrada\"\n",
    "                  [0., 0., 0., 0., 0., 1., 0.],    # \"porque\"\n",
    "                  [0., 0., 0., 0., 0., 0., 1.]],    # \"ela\"\n",
    ").float()\n",
    "\n",
    "print(f'\"Joana não atravessou a estrada porque ela\"\\n')\n",
    "print(X.numpy())"
   ]
  },
  {
   "cell_type": "code",
   "execution_count": 18,
   "id": "49c95581",
   "metadata": {},
   "outputs": [
    {
     "name": "stdout",
     "output_type": "stream",
     "text": [
      "Depois da atenção: \n",
      "\n",
      "[[1.  0.  0.  0.  0.  0.  0. ]\n",
      " [0.  1.  0.  0.  0.  0.  0. ]\n",
      " [0.  0.  1.  0.  0.  0.  0. ]\n",
      " [0.  0.  0.  1.  0.  0.  0. ]\n",
      " [0.  0.  0.  0.  1.  0.  0. ]\n",
      " [0.  0.  0.  0.  0.  1.  0. ]\n",
      " [0.3 0.  0.  0.  0.3 0.  0.4]]\n"
     ]
    }
   ],
   "source": [
    "attention = torch.tensor([\n",
    "                [1., 0., 0., 0., 0., 0., 0.], \n",
    "                [0., 1., 0., 0., 0., 0., 0.],\n",
    "                [0., 0., 1., 0., 0., 0., 0.],\n",
    "                [0., 0., 0., 1., 0., 0., 0.],\n",
    "                [0., 0., 0., 0., 1., 0., 0.], \n",
    "                [0., 0., 0., 0., 0., 1., 0.],\n",
    "                [0.3, 0., 0., 0., 0.3, 0., 0.4],    # mapa de atenção para a palavra \"ela\"\n",
    "]).float()\n",
    "\n",
    "\n",
    "print(f'Depois da atenção: \\n')\n",
    "print((attention.matmul(X)).numpy())"
   ]
  },
  {
   "cell_type": "markdown",
   "id": "9e8ef560",
   "metadata": {},
   "source": [
    "## Scaled Dot-Product Attention"
   ]
  },
  {
   "cell_type": "markdown",
   "id": "27d30ee4",
   "metadata": {},
   "source": [
    "$$\n",
    "\\text{Atenção}(Q, K, V) = \\text{softmax}\\left(\\frac{QK^T}{\\sqrt{d_k}}\\right)V\n",
    "$$"
   ]
  },
  {
   "cell_type": "markdown",
   "id": "9da963fd",
   "metadata": {},
   "source": [
    "### Q (Queries), K (Keys) e V (Values)"
   ]
  },
  {
   "cell_type": "code",
   "execution_count": 19,
   "id": "3a3d97b0",
   "metadata": {},
   "outputs": [
    {
     "data": {
      "text/plain": [
       "(torch.Size([3, 3]),\n",
       " torch.Size([3, 3]),\n",
       " torch.Size([3, 3]),\n",
       " torch.Size([3, 3]))"
      ]
     },
     "execution_count": 19,
     "metadata": {},
     "output_type": "execute_result"
    }
   ],
   "source": [
    "X = torch.tensor([\n",
    "    [1, 0, 0],      # \"Olá\"\n",
    "    [0, 1, 0],      # \"Mundo\"\n",
    "    [0, 0, 1]       # \"!\"\n",
    "]).float()\n",
    "\n",
    "EMBEDDING_DIM = 3\n",
    "\n",
    "linear_q = torch.randn(EMBEDDING_DIM, EMBEDDING_DIM)\n",
    "linear_v = torch.randn(EMBEDDING_DIM, EMBEDDING_DIM)\n",
    "linear_k = torch.randn(EMBEDDING_DIM, EMBEDDING_DIM)\n",
    "\n",
    "Q = torch.matmul(X, linear_q) # query\n",
    "K = torch.matmul(X, linear_k) # key\n",
    "V = torch.matmul(X, linear_v) # value\n",
    "\n",
    "X.shape, Q.shape, K.shape, V.shape\n"
   ]
  },
  {
   "cell_type": "markdown",
   "id": "5e3fcfba",
   "metadata": {},
   "source": [
    "#### O produto escalar é uma medida de similaridade entre a query e keys:\n",
    "\n",
    "$$\n",
    "\\vec{q_i} \\cdot \\vec{k_i} = \\|\\vec{q_i}\\| \\|\\vec{k_i}\\| \\cos(\\theta)\n",
    "$$"
   ]
  },
  {
   "cell_type": "code",
   "execution_count": 20,
   "id": "2d752a34",
   "metadata": {},
   "outputs": [
    {
     "data": {
      "image/png": "[encoded data removed]",
      "text/plain": [
       "<Figure size 600x250 with 1 Axes>"
      ]
     },
     "metadata": {},
     "output_type": "display_data"
    }
   ],
   "source": [
    "from utils import plot_tensors_2d\n",
    "\n",
    "q_i = torch.tensor([1, 0.5]).float()\n",
    "k_i = torch.tensor([0.5, 0.5]).float()\n",
    "plot_tensors_2d(q_i, k_i, q_i @ k_i)"
   ]
  },
  {
   "cell_type": "markdown",
   "id": "f3499b9e",
   "metadata": {},
   "source": [
    "## Função Softmax\n",
    "\n",
    "$$S(\\mathbf{z})_i = \\frac{e^{z_i}}{\\sum_{j=1}^{K} e^{z_j}}$$\n",
    "\n",
    "Onde:\n",
    "* $S(\\mathbf{z})_i$ é a probabilidade resultante para o i-ésimo elemento do vetor de entrada.\n",
    "* $z_i$ é o i-ésimo score (ou logit) no vetor de entrada $\\mathbf{z}$.\n",
    "* $e^{z_i}$ é o exponencial do i-ésimo score.\n",
    "* $\\sum_{j=1}^{K} e^{z_j}$ é a soma dos exponenciais de todos os $K$ scores no vetor. Isso atua como o termo de normalização."
   ]
  },
  {
   "cell_type": "code",
   "execution_count": 21,
   "id": "5b4e3bde",
   "metadata": {},
   "outputs": [
    {
     "name": "stdout",
     "output_type": "stream",
     "text": [
      "Scores antes do Softmax: [1. 2. 1.]\n",
      "Probabilidades de Atenção (após Softmax): ['0.21194', '0.57612', '0.21194']\n",
      "\n"
     ]
    }
   ],
   "source": [
    "scores = torch.tensor([1.0, 2.0, 1.0])\n",
    "probabilidades = F.softmax(scores, dim=0)\n",
    "print(f\"Scores antes do Softmax: {scores.numpy()}\")\n",
    "print(f\"Probabilidades de Atenção (após Softmax): {[f'{p:.5f}' for p in probabilidades]}\\n\")"
   ]
  },
  {
   "cell_type": "code",
   "execution_count": 22,
   "id": "a2d9e65e",
   "metadata": {},
   "outputs": [
    {
     "name": "stdout",
     "output_type": "stream",
     "text": [
      "Scores antes do Softmax: [ 5. 10.  5.]\n",
      "Probabilidades de Atenção (após Softmax): ['0.00665', '0.98670', '0.00665']\n",
      "\n"
     ]
    }
   ],
   "source": [
    "# Scores com valores grandes\n",
    "scores = torch.tensor([5.0, 10.0, 5.0])\n",
    "probabilidades = F.softmax(scores, dim=0)\n",
    "print(f\"Scores antes do Softmax: {scores.numpy()}\")\n",
    "print(f\"Probabilidades de Atenção (após Softmax): {[f'{p:.5f}' for p in probabilidades]}\\n\")"
   ]
  },
  {
   "cell_type": "markdown",
   "id": "bf6d0522",
   "metadata": {},
   "source": [
    "Dividimos o vetor de simularidade $QK^T$ por $\\sqrt{d_k}$ para evitar saturação da função softmax.\n"
   ]
  },
  {
   "cell_type": "code",
   "execution_count": 23,
   "id": "4b11dad6",
   "metadata": {},
   "outputs": [],
   "source": [
    "class ScaledDotProductAttention(nn.Module):\n",
    "    def __init__(self, d_model, head_dim, dropout):\n",
    "        super().__init__()\n",
    "        self.head_dim = head_dim\n",
    "        self.fc_q = nn.Linear(d_model, head_dim)\n",
    "        self.fc_k = nn.Linear(d_model, head_dim)\n",
    "        self.fc_v = nn.Linear(d_model, head_dim)\n",
    "        self.scale = torch.sqrt(torch.FloatTensor([head_dim]))\n",
    "        self.dropout = nn.Dropout(dropout)\n",
    "\n",
    "    def forward(self, x):\n",
    "        Q, K, V = self.fc_q(x), self.fc_k(x), self.fc_v(x)\n",
    "        qK = torch.matmul(Q, K.transpose(-2, -1)) / self.scale\n",
    "        attention = torch.softmax(qK, dim=-1)\n",
    "        return attention, torch.matmul(self.dropout(attention), V)"
   ]
  },
  {
   "cell_type": "code",
   "execution_count": 24,
   "id": "e465e260",
   "metadata": {},
   "outputs": [
    {
     "name": "stdout",
     "output_type": "stream",
     "text": [
      "Mapa de Atenção:\n",
      "[[[0.8396186  0.06666686 0.09371448]\n",
      "  [0.45639935 0.25154802 0.2920527 ]\n",
      "  [0.2793929  0.3604784  0.36012864]]]\n",
      "\n"
     ]
    }
   ],
   "source": [
    "BATCH_SIZE = 1\n",
    "SEQUENCE_LENGTH = 3\n",
    "EMBEDDING_DIM = 3\n",
    "\n",
    "att_layer = ScaledDotProductAttention(d_model=EMBEDDING_DIM, head_dim=EMBEDDING_DIM, dropout=0.1)\n",
    "\n",
    "X = torch.randn(BATCH_SIZE, SEQUENCE_LENGTH, EMBEDDING_DIM)\n",
    "attention_map, scaled_values = att_layer(X)\n",
    "\n",
    "print(f'Mapa de Atenção:\\n{attention_map.detach().numpy()}\\n')"
   ]
  },
  {
   "cell_type": "markdown",
   "id": "2cff0846",
   "metadata": {},
   "source": [
    "## Masked Attention"
   ]
  },
  {
   "cell_type": "code",
   "execution_count": 25,
   "id": "8db791ce",
   "metadata": {},
   "outputs": [],
   "source": [
    "class ScaledDotProductAttention(nn.Module):\n",
    "    def __init__(self, d_model, head_dim, dropout):\n",
    "        super().__init__()\n",
    "        self.head_dim = head_dim\n",
    "        self.fc_q = nn.Linear(d_model, head_dim)\n",
    "        self.fc_k = nn.Linear(d_model, head_dim)\n",
    "        self.fc_v = nn.Linear(d_model, head_dim)\n",
    "        self.scale = torch.sqrt(torch.FloatTensor([head_dim]))\n",
    "        self.dropout = nn.Dropout(dropout)\n",
    "\n",
    "    def forward(self, x, mask=None):\n",
    "        Q, K, V = self.fc_q(x), self.fc_k(x), self.fc_v(x)\n",
    "        qK = torch.matmul(Q, K.transpose(-2, -1)) / self.scale\n",
    "        if mask is not None:\n",
    "            # Substituimos valores iguais a zero na máscara por um número negativo muito grande\n",
    "            qK = qK.masked_fill(mask == 0, -1e10)\n",
    "        # Desta forma, a função softmax se encarrega zerar a atenção nos tokens futuros\n",
    "        attention = torch.softmax(qK, dim=-1)\n",
    "        return attention, torch.matmul(self.dropout(attention), V)"
   ]
  },
  {
   "cell_type": "markdown",
   "id": "2566c159",
   "metadata": {},
   "source": [
    "# Evitando valores futuros"
   ]
  },
  {
   "cell_type": "code",
   "execution_count": 26,
   "id": "5068e7d5",
   "metadata": {},
   "outputs": [
    {
     "data": {
      "text/plain": [
       "tensor([[1., 0., 0.],\n",
       "        [1., 1., 0.],\n",
       "        [1., 1., 1.]])"
      ]
     },
     "execution_count": 26,
     "metadata": {},
     "output_type": "execute_result"
    }
   ],
   "source": [
    "mask = torch.tril(torch.ones(EMBEDDING_DIM, EMBEDDING_DIM))\n",
    "mask"
   ]
  },
  {
   "cell_type": "code",
   "execution_count": 27,
   "id": "303ec309",
   "metadata": {},
   "outputs": [
    {
     "name": "stdout",
     "output_type": "stream",
     "text": [
      "Mapa de Atenção:\n",
      "[[[1.         0.         0.        ]\n",
      "  [0.59190446 0.40809554 0.        ]\n",
      "  [0.3406968  0.37001947 0.28928375]]]\n",
      "\n"
     ]
    }
   ],
   "source": [
    "BATCH_SIZE = 1\n",
    "SEQUENCE_LENGTH = 3\n",
    "EMBEDDING_DIM = 3\n",
    "\n",
    "att_layer = ScaledDotProductAttention(d_model=EMBEDDING_DIM, head_dim=EMBEDDING_DIM, dropout=0.1)\n",
    "\n",
    "X = torch.randn(BATCH_SIZE, SEQUENCE_LENGTH, EMBEDDING_DIM)\n",
    "attention_map, scaled_values = att_layer(X, mask=mask)\n",
    "\n",
    "print(f'Mapa de Atenção:\\n{attention_map.detach().numpy()}\\n')"
   ]
  },
  {
   "cell_type": "markdown",
   "id": "e42675aa",
   "metadata": {},
   "source": [
    "## Multi-Head\n",
    "\n",
    "<div style=\"text-align: center;\">\n",
    "    <img src=\"figures/mha.png\" alt=\"Multi-Head Attention\" width=\"50%\"/>\n",
    "</div>"
   ]
  },
  {
   "cell_type": "code",
   "execution_count": 28,
   "id": "94b7a84d",
   "metadata": {},
   "outputs": [],
   "source": [
    "class MultiHeadAttention(nn.Module):\n",
    "    def __init__(self, d_model, n_heads, dropout):\n",
    "        super().__init__()\n",
    "\n",
    "        assert d_model % n_heads == 0\n",
    "\n",
    "        self.heads = nn.ModuleList([\n",
    "            ScaledDotProductAttention(d_model, d_model // n_heads, dropout)\n",
    "            for _ in range(n_heads)\n",
    "        ])\n",
    "\n",
    "        self.fc_out = nn.Linear(d_model, d_model)\n",
    "        self.dropout = nn.Dropout(dropout)\n",
    "\n",
    "    def forward(self, x, mask=None):\n",
    "        head_outputs = [head(x, mask) for head in self.heads]\n",
    "        attention_maps = [out[0] for out in head_outputs]\n",
    "        values = [out[1] for out in head_outputs]\n",
    "\n",
    "        concatenated = torch.cat(values, dim=-1)\n",
    "        return attention_maps, self.fc_out(concatenated)"
   ]
  },
  {
   "cell_type": "code",
   "execution_count": 29,
   "id": "cd7d01b1",
   "metadata": {},
   "outputs": [
    {
     "data": {
      "text/plain": [
       "[tensor([[[1.0000, 0.0000, 0.0000],\n",
       "          [0.6712, 0.3288, 0.0000],\n",
       "          [0.3793, 0.3053, 0.3155]]], grad_fn=<SoftmaxBackward0>),\n",
       " tensor([[[1.0000, 0.0000, 0.0000],\n",
       "          [0.5081, 0.4919, 0.0000],\n",
       "          [0.3306, 0.3299, 0.3394]]], grad_fn=<SoftmaxBackward0>),\n",
       " tensor([[[1.0000, 0.0000, 0.0000],\n",
       "          [0.4688, 0.5312, 0.0000],\n",
       "          [0.3422, 0.3298, 0.3280]]], grad_fn=<SoftmaxBackward0>)]"
      ]
     },
     "execution_count": 29,
     "metadata": {},
     "output_type": "execute_result"
    }
   ],
   "source": [
    "mha = MultiHeadAttention(d_model=EMBEDDING_DIM, n_heads=3, dropout=0.1)\n",
    "attention_maps, values = mha(X, mask=mask)\n",
    "attention_maps"
   ]
  },
  {
   "cell_type": "code",
   "execution_count": 30,
   "id": "9cbf37b9",
   "metadata": {},
   "outputs": [
    {
     "data": {
      "text/plain": [
       "tensor([[[ 0.6617,  0.4190, -0.0291],\n",
       "         [ 1.0027,  0.6326,  0.0453],\n",
       "         [ 0.6540,  0.1420, -0.2340]]], grad_fn=<ViewBackward0>)"
      ]
     },
     "execution_count": 30,
     "metadata": {},
     "output_type": "execute_result"
    }
   ],
   "source": [
    "values"
   ]
  }
 ],
 "metadata": {
  "kernelspec": {
   "display_name": "gandalf",
   "language": "python",
   "name": "python3"
  },
  "language_info": {
   "codemirror_mode": {
    "name": "ipython",
    "version": 3
   },
   "file_extension": ".py",
   "mimetype": "text/x-python",
   "name": "python",
   "nbconvert_exporter": "python",
   "pygments_lexer": "ipython3",
   "version": "3.10.14"
  }
 },
 "nbformat": 4,
 "nbformat_minor": 5
}
