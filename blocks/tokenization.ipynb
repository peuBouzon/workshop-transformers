{
 "cells": [
  {
   "cell_type": "code",
   "execution_count": 333,
   "id": "0d88808d",
   "metadata": {},
   "outputs": [],
   "source": [
    "import re\n",
    "import pandas as pd\n",
    "from collections import Counter"
   ]
  },
  {
   "cell_type": "code",
   "execution_count": 334,
   "id": "8a487bf7",
   "metadata": {},
   "outputs": [],
   "source": [
    "df = pd.read_csv('mtsamples.csv')\n",
    "sentences = df['transcription'].dropna().astype(str).values"
   ]
  },
  {
   "cell_type": "code",
   "execution_count": 335,
   "id": "4627024d",
   "metadata": {},
   "outputs": [
    {
     "name": "stdout",
     "output_type": "stream",
     "text": [
      "\n",
      "Tamanho do vocabulário: 84\n"
     ]
    }
   ],
   "source": [
    "class CharacterLevelTokenizer:\n",
    "    def __init__(self):\n",
    "        self.token_to_idx = {}\n",
    "        self.idx_to_token = {}\n",
    "\n",
    "    def clean_sentence(self, sentence):\n",
    "        return str(sentence).lower()\n",
    "\n",
    "    def build_vocab(self, sentences):\n",
    "        \"\"\"Monta o vocabulário a partir de uma lista de sentenças.\"\"\"\n",
    "        unique_chars = set()\n",
    "        \n",
    "        for sentence in sentences:\n",
    "            cleaned_sentence = self.clean_sentence(sentence)\n",
    "            unique_chars.update(list(cleaned_sentence))\n",
    "\n",
    "        self.token_to_idx = {'[PAD]': 0, '[UNK]': 1, '[CLS]': 2, '[SEP]': 3} # Tokens especiais\n",
    "        for i, char in enumerate(sorted(list(unique_chars)), 4):\n",
    "            self.token_to_idx[char] = i\n",
    "\n",
    "        self.idx_to_token = {i: c for c, i in self.token_to_idx.items()}\n",
    "\n",
    "    def tokenize(self, sentence):\n",
    "        \"\"\"Converte uma sentença em uma lista de caracteres (tokens).\"\"\"\n",
    "        cleaned_sentence = self.clean_sentence(sentence)\n",
    "        return list(cleaned_sentence)\n",
    "\n",
    "    def convert_tokens_to_ids(self, tokens):\n",
    "        \"\"\"Converte uma lista de tokens (caracteres) em seus IDs correspondentes.\"\"\"\n",
    "        return [self.token_to_idx.get(token, self.token_to_idx['[UNK]']) for token in tokens]\n",
    "\n",
    "    def get_vocab_size(self):\n",
    "        return len(self.token_to_idx)\n",
    "\n",
    "tokenizer = CharacterLevelTokenizer()\n",
    "tokenizer.build_vocab(sentences)\n",
    "print(f\"\\nTamanho do vocabulário: {tokenizer.get_vocab_size()}\")"
   ]
  },
  {
   "cell_type": "code",
   "execution_count": 336,
   "id": "6906fbd5",
   "metadata": {},
   "outputs": [
    {
     "name": "stdout",
     "output_type": "stream",
     "text": [
      "['s', 'h', 'e', ' ', 'h', 'a', 's', ' ', 'a', ' ', 't', 'e', 'r', 'r', 'i', 'b', 'l', 'e', ' ', 'd', 'i', 's', 'e', 'a', 's', 'e']\n"
     ]
    }
   ],
   "source": [
    "tokens = tokenizer.tokenize(\"She has a terrible disease\")\n",
    "print(tokens)"
   ]
  },
  {
   "cell_type": "code",
   "execution_count": 337,
   "id": "0fc0cd3e",
   "metadata": {},
   "outputs": [
    {
     "name": "stdout",
     "output_type": "stream",
     "text": [
      "[58, 47, 44, 4, 47, 40, 58, 4, 40, 4, 59, 44, 57, 57, 48, 41, 51, 44, 4, 43, 48, 58, 44, 40, 58, 44]\n"
     ]
    }
   ],
   "source": [
    "print(tokenizer.convert_tokens_to_ids(tokens))"
   ]
  },
  {
   "cell_type": "code",
   "execution_count": 338,
   "id": "bcf3e95e",
   "metadata": {},
   "outputs": [
    {
     "name": "stdout",
     "output_type": "stream",
     "text": [
      "\n",
      "Tamanho do vocabulário: 256\n"
     ]
    }
   ],
   "source": [
    "class MostFrequentWordsTokenizer:\n",
    "    def __init__(self, vocab_size):\n",
    "        self.vocab_size = vocab_size\n",
    "        self.token_to_idx = {}\n",
    "        self.idx_to_token = {}\n",
    "\n",
    "    def clean_sentence(self, sentence):\n",
    "        sentence = sentence.lower()\n",
    "        return re.sub(r'[^a-z0-9\\s]', '', sentence)\n",
    "\n",
    "    def build_vocab(self, sentences):\n",
    "        words = []\n",
    "        for sentence in sentences:\n",
    "            words.extend(self.clean_sentence(str(sentence)).split())\n",
    "\n",
    "        word_counts = Counter(words)\n",
    "        most_common_words = word_counts.most_common(self.vocab_size - 4)\n",
    "\n",
    "        self.token_to_idx = {'[PAD]': 0, '[UNK]': 1, '[CLS]': 2, '[SEP]': 3} # Tokens especiais\n",
    "        for i, (word, _) in enumerate(most_common_words, 4):\n",
    "            self.token_to_idx[word] = i\n",
    "\n",
    "        self.idx_to_token = {i: w for w, i in self.token_to_idx.items()}\n",
    "\n",
    "    def tokenize(self, sentence):\n",
    "        cleaned_sentence = self.clean_sentence(str(sentence))\n",
    "        return cleaned_sentence.split()\n",
    "\n",
    "    def convert_tokens_to_ids(self, tokens):\n",
    "        return [self.token_to_idx.get(token, self.token_to_idx['[UNK]']) for token in tokens]\n",
    "    \n",
    "    def get_vocab_size(self):\n",
    "        return len(self.token_to_idx)\n",
    "    \n",
    "tokenizer = MostFrequentWordsTokenizer(vocab_size=256)\n",
    "tokenizer.build_vocab(sentences)\n",
    "print(f\"\\nTamanho do vocabulário: {tokenizer.get_vocab_size()}\")"
   ]
  },
  {
   "cell_type": "code",
   "execution_count": 339,
   "id": "aaa0e083",
   "metadata": {},
   "outputs": [
    {
     "data": {
      "text/plain": [
       "['she', 'has', 'a', 'terrible', 'disease']"
      ]
     },
     "execution_count": 339,
     "metadata": {},
     "output_type": "execute_result"
    }
   ],
   "source": [
    "tokens = tokenizer.tokenize(\"She has a terrible disease\")\n",
    "tokens"
   ]
  },
  {
   "cell_type": "code",
   "execution_count": 340,
   "id": "8990c59c",
   "metadata": {},
   "outputs": [
    {
     "data": {
      "text/plain": [
       "[15, 24, 9, 1, 112]"
      ]
     },
     "execution_count": 340,
     "metadata": {},
     "output_type": "execute_result"
    }
   ],
   "source": [
    "tokenizer.convert_tokens_to_ids(tokens)"
   ]
  },
  {
   "cell_type": "code",
   "execution_count": 359,
   "id": "6cdc64e5",
   "metadata": {},
   "outputs": [
    {
     "name": "stdout",
     "output_type": "stream",
     "text": [
      "\n",
      "\n",
      "\n",
      "\n",
      "Tamanho do vocabulário: 2048\n"
     ]
    }
   ],
   "source": [
    "from tokenizers import Tokenizer\n",
    "from tokenizers.models import BPE\n",
    "from tokenizers.trainers import BpeTrainer\n",
    "from tokenizers.pre_tokenizers import Whitespace\n",
    "\n",
    "class BytePairEncodingTokenizer:\n",
    "    def __init__(self, vocab_size):\n",
    "        self.vocab_size = vocab_size\n",
    "        self.tokenizer = Tokenizer(BPE(unk_token=\"[UNK]\"))\n",
    "        self.tokenizer.pre_tokenizer = Whitespace()\n",
    "        self.special_tokens = [\"[PAD]\", \"[UNK]\", \"[CLS]\", \"[SEP]\"] # Tokens especiais\n",
    "\n",
    "    def build_vocab(self, sentences):\n",
    "        trainer = BpeTrainer(vocab_size=self.vocab_size, special_tokens=self.special_tokens)\n",
    "        self.tokenizer.train_from_iterator(sentences, trainer=trainer)\n",
    "\n",
    "    def tokenize(self, text):\n",
    "        return self.tokenizer.encode(text).tokens\n",
    "\n",
    "    def convert_tokens_to_ids(self, tokens):\n",
    "        return [self.tokenizer.token_to_id(token) for token in tokens]\n",
    "    \n",
    "    def get_vocab_size(self):\n",
    "        return self.tokenizer.get_vocab_size()\n",
    "    \n",
    "tokenizer = BytePairEncodingTokenizer(vocab_size=2048)\n",
    "tokenizer.build_vocab(sentences)\n",
    "print(f\"\\nTamanho do vocabulário: {tokenizer.get_vocab_size()}\")"
   ]
  },
  {
   "cell_type": "code",
   "execution_count": 360,
   "id": "b153c9e9",
   "metadata": {},
   "outputs": [
    {
     "data": {
      "text/plain": [
       "['She', 'has', 'a', 'ter', 'r', 'ib', 'le', 'disease']"
      ]
     },
     "execution_count": 360,
     "metadata": {},
     "output_type": "execute_result"
    }
   ],
   "source": [
    "tokens = tokenizer.tokenize(\"She has a terrible disease\")\n",
    "tokens"
   ]
  }
 ],
 "metadata": {
  "kernelspec": {
   "display_name": "gandalf",
   "language": "python",
   "name": "python3"
  },
  "language_info": {
   "codemirror_mode": {
    "name": "ipython",
    "version": 3
   },
   "file_extension": ".py",
   "mimetype": "text/x-python",
   "name": "python",
   "nbconvert_exporter": "python",
   "pygments_lexer": "ipython3",
   "version": "3.10.14"
  }
 },
 "nbformat": 4,
 "nbformat_minor": 5
}
