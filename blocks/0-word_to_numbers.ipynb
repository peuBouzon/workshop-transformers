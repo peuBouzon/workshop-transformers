{
 "cells": [
  {
   "cell_type": "markdown",
   "id": "1f802e1e",
   "metadata": {},
   "source": [
    "# Workshop: Introdução à arquitetura Transformer e Visual Transformers para aplicações em saúde"
   ]
  },
  {
   "cell_type": "code",
   "execution_count": 1,
   "id": "74ea7a33",
   "metadata": {},
   "outputs": [],
   "source": [
    "import re\n",
    "import torch\n",
    "import pandas as pd\n",
    "import seaborn as sns\n",
    "import torch.nn as nn\n",
    "import matplotlib.pyplot as plt\n",
    "\n",
    "from pprint import pprint\n",
    "from collections import Counter\n",
    "from tokenizers import Tokenizer\n",
    "from tokenizers.models import BPE\n",
    "from tokenizers.trainers import BpeTrainer\n",
    "from tokenizers.pre_tokenizers import Whitespace"
   ]
  },
  {
   "cell_type": "markdown",
   "id": "4c8ff7dc",
   "metadata": {},
   "source": [
    "## 1. Preliminares: transformando texto em números\n",
    "\n",
    "Redes Neurais necessitam de números! Como representar texto desta maneira?"
   ]
  },
  {
   "cell_type": "markdown",
   "id": "c14fb0f8",
   "metadata": {},
   "source": [
    "![Transformação de texto em números](figures/tokenization.png \"Tranformação de texto em números\")"
   ]
  },
  {
   "cell_type": "markdown",
   "id": "5053d369",
   "metadata": {},
   "source": [
    "### 1.1 Tokenização"
   ]
  },
  {
   "cell_type": "code",
   "execution_count": 2,
   "id": "91c367cd",
   "metadata": {},
   "outputs": [
    {
     "name": "stdout",
     "output_type": "stream",
     "text": [
      "('SUBJECTIVE:,  This 23-year-old white female presents with complaint of '\n",
      " 'allergies.  She used to have allergies when she lived in Seattle but she '\n",
      " 'thinks they are worse here.  In the past, she has tried Claritin, and '\n",
      " 'Zyrtec.  Both worked for short time but then seemed to lose effectiveness.  '\n",
      " 'She has used Allegra also.  She used that last summer and she began using it '\n",
      " 'again two weeks ago.  It does not appear to be working very well.  She has '\n",
      " 'used over-the-counter sprays but no prescription nasal sprays.  She does '\n",
      " 'have asthma but doest not require daily medication for this and does not '\n",
      " 'think it is flaring up.,MEDICATIONS: , Her only medication currently is '\n",
      " 'Ortho Tri-Cyclen and the Allegra.,ALLERGIES: , She has no known medicine '\n",
      " 'allergies.,OBJECTIVE:,Vitals:  Weight was 130 pounds and blood pressure '\n",
      " '124/78.,HEENT:  Her throat was mildly erythematous without exudate.  Nasal '\n",
      " 'mucosa was erythematous and swollen.  Only clear drainage was seen.  TMs '\n",
      " 'were clear.,Neck:  Supple without adenopathy.,Lungs:  Clear.,ASSESSMENT:,  '\n",
      " 'Allergic rhinitis.,PLAN:,1.  She will try Zyrtec instead of Allegra again.  '\n",
      " 'Another option will be to use loratadine.  She does not think she has '\n",
      " 'prescription coverage so that might be cheaper.,2.  Samples of Nasonex two '\n",
      " 'sprays in each nostril given for three weeks.  A prescription was written as '\n",
      " 'well.')\n",
      "\n",
      "Especialidade:  Allergy / Immunology\n"
     ]
    }
   ],
   "source": [
    "df = pd.read_csv('../exemplos/data/transcription.csv')\n",
    "sentences = df['transcription'].dropna().astype(str).values\n",
    "\n",
    "sample = sentences[0]\n",
    "pprint(sample)\n",
    "print(f\"\\nEspecialidade: {df['medical_specialty'][0]}\")"
   ]
  },
  {
   "cell_type": "markdown",
   "id": "e674dc55",
   "metadata": {},
   "source": [
    "### Tokenização: nível de caractere"
   ]
  },
  {
   "cell_type": "code",
   "execution_count": 3,
   "id": "4627024d",
   "metadata": {},
   "outputs": [
    {
     "name": "stdout",
     "output_type": "stream",
     "text": [
      "\n",
      "Tamanho do vocabulário: 84\n"
     ]
    }
   ],
   "source": [
    "class CharacterLevelTokenizer:\n",
    "    def __init__(self):\n",
    "        self.token_to_idx = {}\n",
    "        self.idx_to_token = {}\n",
    "\n",
    "    def clean_sentence(self, sentence):\n",
    "        return str(sentence).lower()\n",
    "\n",
    "    def build_vocab(self, sentences):\n",
    "        unique_chars = set()\n",
    "\n",
    "        for sentence in sentences:\n",
    "            cleaned_sentence = self.clean_sentence(sentence)\n",
    "            unique_chars.update(list(cleaned_sentence))\n",
    "\n",
    "        self.token_to_idx = {'[PAD]': 0, '[UNK]': 1, '[CLS]': 2, '[SEP]': 3} # Tokens especiais\n",
    "        for i, char in enumerate(sorted(list(unique_chars)), 4):\n",
    "            self.token_to_idx[char] = i\n",
    "\n",
    "        self.idx_to_token = {i: c for c, i in self.token_to_idx.items()}\n",
    "\n",
    "    def tokenize(self, sentence):\n",
    "        cleaned_sentence = self.clean_sentence(sentence)\n",
    "        return list(cleaned_sentence)\n",
    "\n",
    "    def convert_tokens_to_ids(self, tokens):\n",
    "        return [self.token_to_idx.get(token, self.token_to_idx['[UNK]']) for token in tokens]\n",
    "\n",
    "    def get_vocab_size(self):\n",
    "        return len(self.token_to_idx)\n",
    "\n",
    "tokenizer = CharacterLevelTokenizer()\n",
    "tokenizer.build_vocab(sentences)\n",
    "print(f\"\\nTamanho do vocabulário: {tokenizer.get_vocab_size()}\")"
   ]
  },
  {
   "cell_type": "code",
   "execution_count": 4,
   "id": "6906fbd5",
   "metadata": {},
   "outputs": [
    {
     "name": "stdout",
     "output_type": "stream",
     "text": [
      "['s', 'h', 'e', ' ', 'h', 'a', 's', ' ', 'a', ' ', 't', 'e', 'r', 'r', 'i', 'b', 'l', 'e', ' ', 'd', 'i', 's', 'e', 'a', 's', 'e']\n"
     ]
    }
   ],
   "source": [
    "tokens = tokenizer.tokenize(\"She has a terrible disease\")\n",
    "print(tokens)"
   ]
  },
  {
   "cell_type": "code",
   "execution_count": 5,
   "id": "bcf3e95e",
   "metadata": {},
   "outputs": [],
   "source": [
    "class MostFrequentWordsTokenizer:\n",
    "    def __init__(self, vocab_size):\n",
    "        self.vocab_size = vocab_size\n",
    "        self.token_to_idx = {}\n",
    "        self.idx_to_token = {}\n",
    "\n",
    "    def clean_sentence(self, sentence):\n",
    "        sentence = sentence.lower()\n",
    "        return re.sub(r'[^a-z0-9\\s]', '', sentence)\n",
    "\n",
    "    def build_vocab(self, sentences):\n",
    "        words = []\n",
    "        for sentence in sentences:\n",
    "            cleaned_sentence = self.clean_sentence(sentence)\n",
    "            new_words = cleaned_sentence.split()\n",
    "            words.extend(new_words)\n",
    "\n",
    "        word_counts = Counter(words)\n",
    "        most_common_words = word_counts.most_common(self.vocab_size - 4)\n",
    "\n",
    "        self.token_to_idx = {'[PAD]': 0, '[UNK]': 1, '[CLS]': 2, '[SEP]': 3} # Tokens especiais\n",
    "        for i, (word, _) in enumerate(most_common_words, 4):\n",
    "            self.token_to_idx[word] = i\n",
    "\n",
    "        self.idx_to_token = {i: w for w, i in self.token_to_idx.items()}\n",
    "\n",
    "    def tokenize(self, sentence):\n",
    "        cleaned_sentence = self.clean_sentence(str(sentence))\n",
    "        return cleaned_sentence.split()\n",
    "\n",
    "    def convert_tokens_to_ids(self, tokens):\n",
    "        return [self.token_to_idx.get(token, self.token_to_idx['[UNK]']) for token in tokens]\n",
    "    \n",
    "    def get_vocab_size(self):\n",
    "        return len(self.token_to_idx)\n",
    "    \n",
    "tokenizer = MostFrequentWordsTokenizer(vocab_size=256)\n",
    "tokenizer.build_vocab(sentences)"
   ]
  },
  {
   "cell_type": "code",
   "execution_count": 6,
   "id": "aaa0e083",
   "metadata": {},
   "outputs": [
    {
     "data": {
      "text/plain": [
       "['she', 'has', 'a', 'terrible', 'disease']"
      ]
     },
     "execution_count": 6,
     "metadata": {},
     "output_type": "execute_result"
    }
   ],
   "source": [
    "tokenizer.tokenize(\"She has a terrible disease\")"
   ]
  },
  {
   "cell_type": "markdown",
   "id": "0a57d173",
   "metadata": {},
   "source": [
    "### Nível de sub-palavras"
   ]
  },
  {
   "cell_type": "code",
   "execution_count": 7,
   "id": "9fb3a47f",
   "metadata": {},
   "outputs": [
    {
     "name": "stdout",
     "output_type": "stream",
     "text": [
      "\n",
      "\n",
      "\n"
     ]
    }
   ],
   "source": [
    "class BytePairEncodingTokenizer:\n",
    "    def __init__(self, vocab_size):\n",
    "        self.vocab_size = vocab_size\n",
    "        self.tokenizer = Tokenizer(BPE(unk_token=\"[UNK]\"))\n",
    "        self.tokenizer.pre_tokenizer = Whitespace()\n",
    "        self.special_tokens = [\"[PAD]\", \"[UNK]\", \"[CLS]\", \"[SEP]\"] # Tokens especiais\n",
    "\n",
    "    def build_vocab(self, sentences):\n",
    "        trainer = BpeTrainer(vocab_size=self.vocab_size, special_tokens=self.special_tokens)\n",
    "        self.tokenizer.train_from_iterator(sentences, trainer=trainer)\n",
    "\n",
    "    def tokenize(self, text):\n",
    "        return self.tokenizer.encode(text).tokens\n",
    "\n",
    "    def convert_tokens_to_ids(self, tokens):\n",
    "        return [self.tokenizer.token_to_id(token) for token in tokens]\n",
    "    \n",
    "    def get_vocab_size(self):\n",
    "        return self.tokenizer.get_vocab_size()\n",
    "    \n",
    "tokenizer = BytePairEncodingTokenizer(vocab_size=1024)\n",
    "tokenizer.build_vocab(sentences)\n"
   ]
  },
  {
   "cell_type": "code",
   "execution_count": 8,
   "id": "b153c9e9",
   "metadata": {},
   "outputs": [
    {
     "name": "stdout",
     "output_type": "stream",
     "text": [
      "['She', 'has', 'a', 'ter', 'r', 'ib', 'le', 'disease']\n"
     ]
    }
   ],
   "source": [
    "tokens = tokenizer.tokenize(\"She has a terrible disease\")\n",
    "pprint(tokens)"
   ]
  },
  {
   "cell_type": "markdown",
   "id": "e1a7ead8",
   "metadata": {},
   "source": [
    "## Conversão para IDs"
   ]
  },
  {
   "cell_type": "code",
   "execution_count": 9,
   "id": "0e1e6b7f",
   "metadata": {},
   "outputs": [
    {
     "name": "stdout",
     "output_type": "stream",
     "text": [
      "[15, 24, 9, 1, 112]\n"
     ]
    }
   ],
   "source": [
    "tokenizer = MostFrequentWordsTokenizer(vocab_size=256)\n",
    "tokenizer.build_vocab(sentences)\n",
    "\n",
    "tokens = tokenizer.tokenize(\"She has a terrible disease\")\n",
    "print(tokenizer.convert_tokens_to_ids(tokens))"
   ]
  },
  {
   "cell_type": "markdown",
   "id": "f24e2db6",
   "metadata": {},
   "source": [
    "## Embeddings"
   ]
  },
  {
   "cell_type": "code",
   "execution_count": 10,
   "id": "11304059",
   "metadata": {},
   "outputs": [],
   "source": [
    "VOCAB_SIZE = 256\n",
    "EMBEDDING_DIM = 768\n",
    "\n",
    "tokenizer = MostFrequentWordsTokenizer(vocab_size=256)\n",
    "tokenizer.build_vocab(sentences)\n",
    "\n",
    "embedding_texto = nn.Embedding(num_embeddings=VOCAB_SIZE, embedding_dim=EMBEDDING_DIM)"
   ]
  },
  {
   "cell_type": "code",
   "execution_count": 11,
   "id": "67638fa2",
   "metadata": {},
   "outputs": [
    {
     "name": "stdout",
     "output_type": "stream",
     "text": [
      "Dimensões dos embeddings: torch.Size([3, 768])\n",
      "\n"
     ]
    }
   ],
   "source": [
    "tokens = tokenizer.tokenize(\"She is ok\")\n",
    "token_ids = tokenizer.convert_tokens_to_ids(tokens)\n",
    "embeddings = embedding_texto(torch.tensor(token_ids))\n",
    "\n",
    "print(f'Dimensões dos embeddings: {embeddings.shape}\\n')"
   ]
  },
  {
   "cell_type": "code",
   "execution_count": 12,
   "id": "f430927b",
   "metadata": {},
   "outputs": [
    {
     "data": {
      "text/plain": [
       "tensor([[ 0.6057,  1.1751,  0.0448,  ...,  0.9011, -0.3232, -0.1657],\n",
       "        [ 0.4545,  0.4155,  0.4295,  ..., -0.1992, -0.4127, -0.0230],\n",
       "        [ 0.2662,  0.1530,  1.4343,  ...,  0.0171,  1.0616,  0.9122]],\n",
       "       grad_fn=<EmbeddingBackward0>)"
      ]
     },
     "execution_count": 12,
     "metadata": {},
     "output_type": "execute_result"
    }
   ],
   "source": [
    "embeddings"
   ]
  },
  {
   "cell_type": "markdown",
   "id": "17a9b3c1",
   "metadata": {},
   "source": [
    "### Truncamento e padding"
   ]
  },
  {
   "cell_type": "code",
   "execution_count": 13,
   "id": "6afe168d",
   "metadata": {},
   "outputs": [],
   "source": [
    "class MostFrequentWordsTokenizer:\n",
    "    def __init__(self, vocab_size, max_len=128):\n",
    "        self.vocab_size = vocab_size\n",
    "        self.token_to_idx = {}\n",
    "        self.idx_to_token = {}\n",
    "        self.max_len = max_len\n",
    "\n",
    "    def clean_sentence(self, sentence):\n",
    "        sentence = sentence.lower()\n",
    "        return re.sub(r'[^a-z0-9\\s]', '', sentence)\n",
    "\n",
    "    def build_vocab(self, sentences):\n",
    "        words = []\n",
    "        for sentence in sentences:\n",
    "            words.extend(self.clean_sentence(str(sentence)).split())\n",
    "\n",
    "        word_counts = Counter(words)\n",
    "        most_common_words = word_counts.most_common(self.vocab_size - 4)\n",
    "        \n",
    "        self.token_to_idx = {'[PAD]': 0, '[UNK]': 1, '[CLS]': 2, '[SEP]': 3} # Tokens especiais\n",
    "        for i, (word, _) in enumerate(most_common_words, 4):\n",
    "            self.token_to_idx[word] = i\n",
    "\n",
    "        self.idx_to_token = {i: w for w, i in self.token_to_idx.items()}\n",
    "\n",
    "    def tokenize(self, sentence):\n",
    "        cleaned_sentence = self.clean_sentence(str(sentence))\n",
    "        return cleaned_sentence.split()\n",
    "\n",
    "    def convert_tokens_to_ids(self, tokens):\n",
    "        return [self.token_to_idx.get(token, self.token_to_idx['[UNK]']) for token in tokens]\n",
    "    \n",
    "    def encode(self, sentence):\n",
    "        tokens = self.tokenize(sentence)\n",
    "\n",
    "        # Truca sequencia se maior que max_len\n",
    "        if len(tokens) > self.max_len:\n",
    "            tokens = tokens[:self.max_len]\n",
    "\n",
    "        # Completa com [PAD] se menor que max_len\n",
    "        padding_len = self.max_len - len(tokens)\n",
    "        tokens.extend(['[PAD]'] * padding_len)\n",
    "        \n",
    "        print(tokens)\n",
    "        return self.convert_tokens_to_ids(tokens)\n",
    "    \n",
    "    def decode(self, ids):\n",
    "        return ' '.join([self.idx_to_token.get(i, '[UNK]') for i in ids])\n",
    "\n",
    "    def get_vocab_size(self):\n",
    "        return len(self.token_to_idx)"
   ]
  },
  {
   "cell_type": "markdown",
   "id": "05d2bcc1",
   "metadata": {},
   "source": [
    "### Tamanho máximo de sequência"
   ]
  },
  {
   "cell_type": "code",
   "execution_count": 14,
   "id": "bb27f5d5",
   "metadata": {},
   "outputs": [
    {
     "name": "stdout",
     "output_type": "stream",
     "text": [
      "Tokens:\n",
      "['she', 'has', 'the', 'flu', '[PAD]', '[PAD]', '[PAD]', '[PAD]', '[PAD]', '[PAD]', '[PAD]', '[PAD]']\n",
      "['he', 'is', 'sick', '[PAD]', '[PAD]', '[PAD]', '[PAD]', '[PAD]', '[PAD]', '[PAD]', '[PAD]', '[PAD]']\n",
      "['they', 'have', 'travelled', 'to', 'china', 'in', 'the', 'last', 'weekeend', 'they', 'could', 'have']\n",
      "\n",
      "Token IDs:\n",
      "[[15, 24, 4, 4608, 0, 0, 0, 0, 0, 0, 0, 0], [18, 12, 2883, 0, 0, 0, 0, 0, 0, 0, 0, 0], [222, 49, 1, 8, 1, 11, 4, 218, 1, 222, 252, 49]]\n",
      "\n",
      "Shape Embeddings:\n",
      "torch.Size([3, 12, 768])\n"
     ]
    }
   ],
   "source": [
    "SEQUENCE_SIZE = 12\n",
    "\n",
    "embedding_texto = nn.Embedding(num_embeddings=8000, embedding_dim=EMBEDDING_DIM)\n",
    "tokenizer = MostFrequentWordsTokenizer(vocab_size=8000, max_len=SEQUENCE_SIZE)\n",
    "tokenizer.build_vocab(sentences)\n",
    "\n",
    "print('Tokens:')\n",
    "token_ids = [tokenizer.encode(text) for text in [\n",
    "  \"she has the flu\",\n",
    "  \"he is sick\",\n",
    "  \"they have travelled to china in the last weekeend, they could have been infected with covid-19.\"\n",
    "]]\n",
    "\n",
    "print('\\nToken IDs:')\n",
    "print(token_ids)\n",
    "\n",
    "print('\\nShape Embeddings:')\n",
    "print(embedding_texto(torch.tensor(token_ids)).shape)\n"
   ]
  },
  {
   "cell_type": "markdown",
   "id": "19f5f4bc",
   "metadata": {},
   "source": [
    "## Embeddings Posicionais"
   ]
  },
  {
   "cell_type": "markdown",
   "id": "e94e8840",
   "metadata": {},
   "source": [
    "### Embedding Posicionais: parâmetros\n",
    "\n",
    "```python"
   ]
  },
  {
   "cell_type": "code",
   "execution_count": 15,
   "id": "a4140cf6",
   "metadata": {},
   "outputs": [],
   "source": [
    "embeddings_posicionais = nn.Embedding(SEQUENCE_SIZE, EMBEDDING_DIM)\n",
    "\n",
    "embeddings = embedding_texto(torch.tensor([5])) + embeddings_posicionais(torch.tensor([0]))"
   ]
  },
  {
   "cell_type": "markdown",
   "id": "a4140cf6",
   "metadata": {},
   "source": [
    "### Embeddings Posicionais: senóides\n",
    "\n",
    "$$PE_{(pos, 2i)} = \\sin\\left(\\frac{pos}{10000^{2i/d_{\\text{model}}}}\\right)$$\n",
    "$$PE_{(pos, 2i+1)} = \\cos\\left(\\frac{pos}{10000^{2i/d_{\\text{model}}}}\\right)$$"
   ]
  },
  {
   "cell_type": "markdown",
   "id": "ac2bf17d",
   "metadata": {},
   "source": [
    "SEQUENCE_SIZE X EMBEDDING_DIM\n",
    "(pos, i) -> \n",
    "  pos -> 0, SEQUENCE_SIZE -1, \n",
    "  i -> 0, EMBBEDDIM_DIM - 1 "
   ]
  },
  {
   "cell_type": "code",
   "execution_count": 16,
   "id": "bb0baac8",
   "metadata": {},
   "outputs": [],
   "source": [
    "class SinusoidalPositionalEmbedding(nn.Module):\n",
    "    def __init__(self, d_model, max_len=5000):\n",
    "        super().__init__()\n",
    "        \n",
    "        positional_embeddings = torch.zeros(max_len, d_model)\n",
    "        position = torch.arange(0, max_len, dtype=torch.float).unsqueeze(1)\n",
    "        indices = torch.arange(0, d_model, 2).float()\n",
    "        exponent = indices / d_model\n",
    "        denominator = torch.pow(10000, exponent)\n",
    "        argument = position / denominator\n",
    "        positional_embeddings[:, 0::2] = torch.sin(argument)\n",
    "        positional_embeddings[:, 1::2] = torch.cos(argument)\n",
    "        \n",
    "        self.register_buffer('positional_embeddings', positional_embeddings.unsqueeze(0))"
   ]
  },
  {
   "cell_type": "code",
   "execution_count": 17,
   "id": "bb0baac8",
   "metadata": {},
   "outputs": [
    {
     "data": {
      "image/png": "[encoded data removed]",
      "text/plain": [
       "<Figure size 700x500 with 2 Axes>"
      ]
     },
     "metadata": {},
     "output_type": "display_data"
    }
   ],
   "source": [
    "def plot_positional_embeddings():\n",
    "    d_model = 64\n",
    "    max_len = 32\n",
    "    \n",
    "    pos_encoder = SinusoidalPositionalEmbedding(d_model, max_len)\n",
    "    \n",
    "    pe_matrix = pos_encoder.positional_embeddings.squeeze(0).numpy()\n",
    "    plt.figure(figsize=(7, 5))\n",
    "    sns.heatmap(pe_matrix, cmap=\"viridis\", cbar=True)\n",
    "    plt.title(\"Encoding positional senoidal\")\n",
    "    plt.xlabel(\"Dimensão do embedding \")\n",
    "    plt.ylabel(\"Posição do token\")\n",
    "    plt.show()\n",
    "\n",
    "plot_positional_embeddings()"
   ]
  },
  {
   "cell_type": "markdown",
   "id": "cc02fd36",
   "metadata": {},
   "source": [
    "### Analogia com números binários"
   ]
  },
  {
   "cell_type": "markdown",
   "id": "820f023d",
   "metadata": {},
   "source": [
    "\\begin{array}{|c|c|c|c|}\n",
    "\\hline\n",
    "\\textbf{Número} & \\textbf{$2^2$} & \\textbf{$2^1$} & \\textbf{$2^0$} \\\\\n",
    "\\hline\n",
    "\\textbf{0} & 0 & 0 & 0 \\\\\n",
    "\\textbf{1} & 0 & 0 & 1 \\\\\n",
    "\\textbf{2} & 0 & 1 & 0 \\\\\n",
    "\\textbf{3} & 0 & 1 & 1 \\\\\n",
    "\\textbf{4} & 1 & 0 & 0 \\\\\n",
    "\\textbf{5} & 1 & 0 & 1 \\\\\n",
    "\\hline\n",
    "\\end{array}"
   ]
  },
  {
   "cell_type": "markdown",
   "id": "c92a9a44",
   "metadata": {},
   "source": [
    "### Vamos manter simples!"
   ]
  },
  {
   "cell_type": "code",
   "execution_count": 18,
   "id": "39c3fc1b",
   "metadata": {},
   "outputs": [],
   "source": [
    "embeddings_posicionais = nn.Embedding(SEQUENCE_SIZE, EMBEDDING_DIM)"
   ]
  }
 ],
 "metadata": {
  "kernelspec": {
   "display_name": "gandalf",
   "language": "python",
   "name": "python3"
  },
  "language_info": {
   "codemirror_mode": {
    "name": "ipython",
    "version": 3
   },
   "file_extension": ".py",
   "mimetype": "text/x-python",
   "name": "python",
   "nbconvert_exporter": "python",
   "pygments_lexer": "ipython3",
   "version": "3.10.14"
  }
 },
 "nbformat": 4,
 "nbformat_minor": 5
}
