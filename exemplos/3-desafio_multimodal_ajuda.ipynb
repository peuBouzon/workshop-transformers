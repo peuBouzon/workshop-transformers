{
 "cells": [
  {
   "cell_type": "code",
   "execution_count": 14,
   "id": "eedaaa90",
   "metadata": {},
   "outputs": [],
   "source": [
    "import torch\n",
    "import pandas as pd\n",
    "import torch.nn as nn\n",
    "from trainer import Trainer\n",
    "from tokenizer import MostFrequentWordsTokenizer\n",
    "from torch.utils.data import Dataset, DataLoader\n",
    "from model import MultiHeadAttention, FeedForward\n",
    "from sklearn.model_selection import train_test_split\n",
    "from utils import plot_interactive_roc_curve, get_class_weights\n"
   ]
  },
  {
   "cell_type": "markdown",
   "id": "9e8670a3",
   "metadata": {},
   "source": [
    "### Este notebook apresenta a classificação de câncer de pele apenas com os dados clínicos do paciente (em formato de texto). \n",
    "\n",
    "### O intuito é ajudar no desafio multimodal, onde imagem e texto devem ser integrados.\n",
    "\n",
    "### Veja como o dataloader é implementado"
   ]
  },
  {
   "cell_type": "markdown",
   "id": "c596bcc8",
   "metadata": {},
   "source": [
    "### Configuration & Hyperparameters"
   ]
  },
  {
   "cell_type": "code",
   "execution_count": 15,
   "id": "09c66185",
   "metadata": {},
   "outputs": [],
   "source": [
    "VOCAB_SIZE = 512\n",
    "D_MODEL = 384\n",
    "N_HEADS = 6\n",
    "N_LAYERS = 2\n",
    "DROPOUT = 0.1\n",
    "MAX_EPOCHS = 25\n",
    "BATCH_SIZE = 32\n",
    "BLOCK_SIZE = 256\n",
    "LEARNING_RATE = 5e-5\n",
    "DEVICE = 'cuda' if torch.cuda.is_available() else 'cpu'"
   ]
  },
  {
   "cell_type": "markdown",
   "id": "aabe2538",
   "metadata": {},
   "source": [
    "### Data Loading and Preprocessing"
   ]
  },
  {
   "cell_type": "code",
   "execution_count": 16,
   "id": "b324f4c9",
   "metadata": {},
   "outputs": [
    {
     "data": {
      "text/plain": [
       "'Patient History: Age: 8, Lesion region: arm, Lesion grew: false, Lesion itch: false, Lesion bled: false, Lesion hurt: false, Lesion changed: false, Lesion elevation: false.'"
      ]
     },
     "execution_count": 16,
     "metadata": {},
     "output_type": "execute_result"
    }
   ],
   "source": [
    "df = pd.read_csv('data/skincancer.csv')\n",
    "df['sentence'][0]"
   ]
  },
  {
   "cell_type": "code",
   "execution_count": 17,
   "id": "eaf83005",
   "metadata": {},
   "outputs": [
    {
     "data": {
      "text/plain": [
       "diagnostic\n",
       "BCC    845\n",
       "ACK    730\n",
       "NEV    244\n",
       "SEK    235\n",
       "SCC    192\n",
       "MEL     52\n",
       "Name: count, dtype: int64"
      ]
     },
     "execution_count": 17,
     "metadata": {},
     "output_type": "execute_result"
    }
   ],
   "source": [
    "df['diagnostic'].value_counts()"
   ]
  },
  {
   "cell_type": "code",
   "execution_count": 18,
   "id": "9c29f08d",
   "metadata": {},
   "outputs": [],
   "source": [
    "df.loc[:, 'diagnostic'] = \\\n",
    "  df['diagnostic'].map({\n",
    "    'BCC': 'malignant',\n",
    "    'SCC': 'malignant',\n",
    "    'ACK': 'benign',\n",
    "    'NEV': 'benign',\n",
    "    'SEK': 'benign',\n",
    "    'MEL': 'malignant'\n",
    "  })"
   ]
  },
  {
   "cell_type": "markdown",
   "metadata": {},
   "source": [
    "### Create a mapping from diagnostic strings to integers"
   ]
  },
  {
   "cell_type": "code",
   "execution_count": 19,
   "id": "109d2b3c",
   "metadata": {},
   "outputs": [],
   "source": [
    "labels = sorted(df['diagnostic'].unique())\n",
    "label_to_int = {label: i for i, label in enumerate(labels)}\n",
    "int_to_label = {i: label for label, i in label_to_int.items()}\n",
    "df['label'] = df['diagnostic'].map(label_to_int)"
   ]
  },
  {
   "cell_type": "markdown",
   "id": "2c77327b",
   "metadata": {},
   "source": [
    "### Split data"
   ]
  },
  {
   "cell_type": "code",
   "execution_count": 20,
   "id": "e6aa095f",
   "metadata": {},
   "outputs": [
    {
     "name": "stdout",
     "output_type": "stream",
     "text": [
      "Training set size: 1838\n",
      "Validation set size: 460\n",
      "Number of classes: 2\n"
     ]
    }
   ],
   "source": [
    "NUM_CLASSES = len(labels)\n",
    "\n",
    "X_train, X_val, y_train, y_val = train_test_split(\n",
    "    df['sentence'], df['label'], test_size=0.2, random_state=42, stratify=df['label']\n",
    ")\n",
    "print(f\"Training set size: {len(X_train)}\")\n",
    "print(f\"Validation set size: {len(X_val)}\")\n",
    "print(f\"Number of classes: {NUM_CLASSES}\")"
   ]
  },
  {
   "cell_type": "markdown",
   "id": "13fc1899",
   "metadata": {},
   "source": [
    "### Simple Word-Level Tokenizer"
   ]
  },
  {
   "cell_type": "code",
   "execution_count": 21,
   "id": "e9e55e63",
   "metadata": {},
   "outputs": [
    {
     "name": "stdout",
     "output_type": "stream",
     "text": [
      "\n",
      "Vocabulary size: 190\n"
     ]
    }
   ],
   "source": [
    "tokenizer = MostFrequentWordsTokenizer(vocab_size=VOCAB_SIZE)\n",
    "tokenizer.build_vocab(X_train)\n",
    "print(f\"\\nVocabulary size: {tokenizer.get_vocab_size()}\")"
   ]
  },
  {
   "cell_type": "markdown",
   "id": "c5762555",
   "metadata": {},
   "source": [
    "### PyTorch Dataset"
   ]
  },
  {
   "cell_type": "code",
   "execution_count": 22,
   "id": "c7d430d8",
   "metadata": {},
   "outputs": [],
   "source": [
    "class SkinLesionDataset(Dataset):\n",
    "    def __init__(self, sentences, labels, tokenizer, block_size):\n",
    "        self.sentences = sentences\n",
    "        self.labels = labels\n",
    "        self.tokenizer = tokenizer\n",
    "        self.block_size = block_size\n",
    "\n",
    "    def __len__(self):\n",
    "        return len(self.sentences)\n",
    "\n",
    "    def __getitem__(self, idx):\n",
    "        sentence = str(self.sentences.iloc[idx])\n",
    "        label = self.labels.iloc[idx]\n",
    "\n",
    "        # Tokeniza a frase\n",
    "        token_ids = self.tokenizer.encode(sentence)\n",
    "\n",
    "        # Trunca frases maiores que block_size\n",
    "        token_ids = token_ids[:self.block_size] \n",
    "\n",
    "        # Completa frases menores que max_len com [PAD]\n",
    "        id_pad_token = self.tokenizer.convert_tokens_to_ids(['[PAD]'])\n",
    "        padding_len = self.block_size - len(token_ids) \n",
    "        token_ids = token_ids + id_pad_token * padding_len\n",
    "\n",
    "        # Cria máscara de atenção para ignorar tokens de padding\n",
    "        attention_mask = [1 if id != id_pad_token else 0 for id in token_ids]\n",
    "        attention_mask = torch.tensor(attention_mask, dtype=torch.long).unsqueeze(0)\n",
    "\n",
    "        return {\n",
    "            'text': torch.tensor(token_ids, dtype=torch.long),\n",
    "            'mask': attention_mask,\n",
    "            'label': torch.tensor(label, dtype=torch.long)\n",
    "        }\n",
    "\n",
    "train_dataset = SkinLesionDataset(X_train, y_train, tokenizer, BLOCK_SIZE)\n",
    "val_dataset = SkinLesionDataset(X_val, y_val, tokenizer, BLOCK_SIZE)\n",
    "\n",
    "train_loader = DataLoader(train_dataset, batch_size=BATCH_SIZE, shuffle=True)\n",
    "val_loader = DataLoader(val_dataset, batch_size=BATCH_SIZE, shuffle=False)\n"
   ]
  },
  {
   "cell_type": "code",
   "execution_count": 23,
   "id": "49acfb66",
   "metadata": {},
   "outputs": [],
   "source": [
    "class TransformerEncoderBlock(nn.Module):\n",
    "    def __init__(self, d_model, n_heads, ff_dim, dropout):\n",
    "        super().__init__()\n",
    "        self.attention = MultiHeadAttention(d_model, n_heads, dropout)\n",
    "        self.norm1 = nn.LayerNorm(d_model)\n",
    "        self.norm2 = nn.LayerNorm(d_model)\n",
    "        self.ff = FeedForward(d_model, ff_dim, dropout)\n",
    "        self.dropout = nn.Dropout(dropout)\n",
    "\n",
    "    def forward(self, x, mask=None):\n",
    "        attn_output = self.attention(x, mask)\n",
    "        x = self.norm1(x + self.dropout(attn_output))\n",
    "        ff_output = self.ff(x)\n",
    "        return self.norm2(x + self.dropout(ff_output))"
   ]
  },
  {
   "cell_type": "code",
   "execution_count": 24,
   "id": "2bf99847",
   "metadata": {},
   "outputs": [],
   "source": [
    "class MiniBERT(nn.Module):\n",
    "    def __init__(self, vocab_size, d_model, n_layers, n_heads, num_classes, max_len, dropout):\n",
    "        super().__init__()\n",
    "        self.token_embedding = nn.Embedding(vocab_size, d_model)\n",
    "        self.position_embedding = nn.Embedding(max_len, d_model)\n",
    "        self.layers = nn.ModuleList([\n",
    "            TransformerEncoderBlock(d_model, n_heads, d_model * 4, dropout)\n",
    "            for _ in range(n_layers)\n",
    "        ])\n",
    "        self.dropout = nn.Dropout(dropout)\n",
    "        self.fc_out = nn.Linear(d_model, num_classes)\n",
    "        self.scale = torch.sqrt(torch.FloatTensor([d_model])).to(DEVICE)\n",
    "\n",
    "    def forward(self, src, src_mask):\n",
    "        batch_size, seq_len = src.shape\n",
    "        pos = torch.arange(0, seq_len).unsqueeze(0).repeat(batch_size, 1).to(DEVICE)\n",
    "        tok_emb = self.token_embedding(src) * self.scale\n",
    "        pos_emb = self.position_embedding(pos)\n",
    "        x = self.dropout(tok_emb + pos_emb)\n",
    "        for layer in self.layers:\n",
    "            x = layer(x, src_mask)\n",
    "        cls_output = x[:, 0, :]\n",
    "        return self.fc_out(cls_output)"
   ]
  },
  {
   "cell_type": "code",
   "execution_count": 25,
   "id": "bfbd82a3",
   "metadata": {},
   "outputs": [
    {
     "name": "stdout",
     "output_type": "stream",
     "text": [
      "tensor([1.1102], device='cuda:0', dtype=torch.float64)\n"
     ]
    }
   ],
   "source": [
    "weights = get_class_weights(NUM_CLASSES, df, y_train.values, int_to_label, DEVICE)"
   ]
  },
  {
   "cell_type": "code",
   "execution_count": 26,
   "id": "01b0372d",
   "metadata": {},
   "outputs": [
    {
     "name": "stdout",
     "output_type": "stream",
     "text": [
      "\n",
      "Iniciando Treinamento...\n"
     ]
    },
    {
     "name": "stdout",
     "output_type": "stream",
     "text": [
      "Epoch: 01 | Train Loss: 0.489 | Val. Loss: 0.469 | Val. Recall: 100.00% | Val. FPR: 40.50%\n",
      "Epoch: 02 | Train Loss: 0.368 | Val. Loss: 0.494 | Val. Recall: 100.00% | Val. FPR: 40.50%\n",
      "Epoch: 03 | Train Loss: 0.337 | Val. Loss: 0.379 | Val. Recall: 97.25% | Val. FPR: 37.19%\n",
      "Epoch: 04 | Train Loss: 0.341 | Val. Loss: 0.373 | Val. Recall: 97.71% | Val. FPR: 38.02%\n",
      "Epoch: 05 | Train Loss: 0.325 | Val. Loss: 0.414 | Val. Recall: 98.17% | Val. FPR: 38.84%\n",
      "Epoch: 06 | Train Loss: 0.319 | Val. Loss: 0.351 | Val. Recall: 94.04% | Val. FPR: 29.34%\n",
      "Epoch: 07 | Train Loss: 0.318 | Val. Loss: 0.397 | Val. Recall: 94.95% | Val. FPR: 31.82%\n",
      "Epoch: 08 | Train Loss: 0.306 | Val. Loss: 0.354 | Val. Recall: 88.53% | Val. FPR: 23.14%\n",
      "Epoch: 09 | Train Loss: 0.294 | Val. Loss: 0.367 | Val. Recall: 90.37% | Val. FPR: 26.45%\n",
      "Epoch: 10 | Train Loss: 0.301 | Val. Loss: 0.358 | Val. Recall: 79.82% | Val. FPR: 18.18%\n",
      "Epoch: 11 | Train Loss: 0.306 | Val. Loss: 0.351 | Val. Recall: 85.78% | Val. FPR: 22.31%\n",
      "Epoch: 12 | Train Loss: 0.292 | Val. Loss: 0.374 | Val. Recall: 80.73% | Val. FPR: 19.01%\n",
      "Epoch: 13 | Train Loss: 0.292 | Val. Loss: 0.364 | Val. Recall: 82.11% | Val. FPR: 21.49%\n",
      "Epoch: 14 | Train Loss: 0.289 | Val. Loss: 0.349 | Val. Recall: 85.78% | Val. FPR: 23.14%\n",
      "Epoch: 15 | Train Loss: 0.274 | Val. Loss: 0.361 | Val. Recall: 85.32% | Val. FPR: 22.73%\n",
      "Epoch: 16 | Train Loss: 0.279 | Val. Loss: 0.359 | Val. Recall: 87.16% | Val. FPR: 23.97%\n",
      "Epoch: 17 | Train Loss: 0.279 | Val. Loss: 0.361 | Val. Recall: 93.58% | Val. FPR: 27.27%\n",
      "Epoch: 18 | Train Loss: 0.270 | Val. Loss: 0.393 | Val. Recall: 96.33% | Val. FPR: 27.69%\n",
      "Epoch: 19 | Train Loss: 0.280 | Val. Loss: 0.356 | Val. Recall: 76.61% | Val. FPR: 17.77%\n",
      "Epoch: 20 | Train Loss: 0.274 | Val. Loss: 0.353 | Val. Recall: 94.50% | Val. FPR: 26.86%\n",
      "Epoch: 21 | Train Loss: 0.273 | Val. Loss: 0.368 | Val. Recall: 77.52% | Val. FPR: 18.60%\n",
      "Epoch: 22 | Train Loss: 0.267 | Val. Loss: 0.355 | Val. Recall: 76.15% | Val. FPR: 17.36%\n",
      "Epoch: 23 | Train Loss: 0.266 | Val. Loss: 0.356 | Val. Recall: 91.28% | Val. FPR: 24.79%\n",
      "Epoch: 24 | Train Loss: 0.270 | Val. Loss: 0.339 | Val. Recall: 91.28% | Val. FPR: 23.55%\n",
      "Epoch: 25 | Train Loss: 0.260 | Val. Loss: 0.344 | Val. Recall: 88.53% | Val. FPR: 19.42%\n"
     ]
    }
   ],
   "source": [
    "model = MiniBERT(\n",
    "    vocab_size=tokenizer.get_vocab_size(),\n",
    "    d_model=D_MODEL,\n",
    "    n_layers=N_LAYERS,\n",
    "    n_heads=N_HEADS,\n",
    "    num_classes=NUM_CLASSES if NUM_CLASSES > 2 else 1,\n",
    "    max_len=BLOCK_SIZE,\n",
    "    dropout=DROPOUT\n",
    ").to(DEVICE)\n",
    "\n",
    "trainer = Trainer(device=DEVICE, save_name='mini_bert.pth', num_classes=NUM_CLASSES, weights=weights)\n",
    "trainer.fit(model,\n",
    "            LEARNING_RATE,\n",
    "            MAX_EPOCHS,\n",
    "            weights,\n",
    "            train_loader,\n",
    "            val_loader,\n",
    "            NUM_CLASSES,\n",
    "            int_to_label,\n",
    "        )"
   ]
  }
 ],
 "metadata": {
  "kernelspec": {
   "display_name": "gandalf",
   "language": "python",
   "name": "python3"
  },
  "language_info": {
   "codemirror_mode": {
    "name": "ipython",
    "version": 3
   },
   "file_extension": ".py",
   "mimetype": "text/x-python",
   "name": "python",
   "nbconvert_exporter": "python",
   "pygments_lexer": "ipython3",
   "version": "3.10.14"
  }
 },
 "nbformat": 4,
 "nbformat_minor": 5
}
