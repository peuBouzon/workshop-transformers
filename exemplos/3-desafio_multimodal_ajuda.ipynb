{
 "cells": [
  {
   "cell_type": "code",
   "execution_count": 120,
   "id": "eedaaa90",
   "metadata": {},
   "outputs": [],
   "source": [
    "import torch\n",
    "import pandas as pd\n",
    "import torch.nn as nn\n",
    "from trainer import Trainer\n",
    "from tokenizer import MostFrequentWordsTokenizer\n",
    "from torch.utils.data import Dataset, DataLoader\n",
    "from model import MultiHeadAttention, FeedForward\n",
    "from sklearn.model_selection import train_test_split\n",
    "from utils import plot_interactive_roc_curve, get_class_weights\n"
   ]
  },
  {
   "cell_type": "markdown",
   "id": "c596bcc8",
   "metadata": {},
   "source": [
    "### Configuration & Hyperparameters"
   ]
  },
  {
   "cell_type": "code",
   "execution_count": 121,
   "id": "09c66185",
   "metadata": {},
   "outputs": [],
   "source": [
    "VOCAB_SIZE = 512\n",
    "D_MODEL = 384\n",
    "N_HEADS = 6\n",
    "N_LAYERS = 2\n",
    "DROPOUT = 0.1\n",
    "MAX_EPOCHS = 25\n",
    "BATCH_SIZE = 32\n",
    "BLOCK_SIZE = 256\n",
    "LEARNING_RATE = 5e-5\n",
    "DEVICE = 'cuda' if torch.cuda.is_available() else 'cpu'"
   ]
  },
  {
   "cell_type": "markdown",
   "id": "aabe2538",
   "metadata": {},
   "source": [
    "### Data Loading and Preprocessing"
   ]
  },
  {
   "cell_type": "code",
   "execution_count": 133,
   "id": "b324f4c9",
   "metadata": {},
   "outputs": [
    {
     "data": {
      "text/plain": [
       "medical_specialty\n",
       " Surgery                          1103\n",
       " Consult - History and Phy.        516\n",
       " Cardiovascular / Pulmonary        372\n",
       " Orthopedic                        355\n",
       " Radiology                         273\n",
       " General Medicine                  259\n",
       " Gastroenterology                  230\n",
       " Neurology                         223\n",
       " SOAP / Chart / Progress Notes     166\n",
       " Obstetrics / Gynecology           160\n",
       " Urology                           158\n",
       " Discharge Summary                 108\n",
       " ENT - Otolaryngology               98\n",
       " Neurosurgery                       94\n",
       " Hematology - Oncology              90\n",
       " Ophthalmology                      83\n",
       " Nephrology                         81\n",
       " Emergency Room Reports             75\n",
       " Pediatrics - Neonatal              70\n",
       " Pain Management                    62\n",
       " Psychiatry / Psychology            53\n",
       " Office Notes                       51\n",
       " Podiatry                           47\n",
       " Dermatology                        29\n",
       " Cosmetic / Plastic Surgery         27\n",
       " Dentistry                          27\n",
       " Letters                            23\n",
       " Physical Medicine - Rehab          21\n",
       " Sleep Medicine                     20\n",
       " Endocrinology                      19\n",
       " Bariatrics                         18\n",
       " IME-QME-Work Comp etc.             16\n",
       " Chiropractic                       14\n",
       " Rheumatology                       10\n",
       " Diets and Nutritions               10\n",
       " Speech - Language                   9\n",
       " Autopsy                             8\n",
       " Lab Medicine - Pathology            8\n",
       " Allergy / Immunology                7\n",
       " Hospice - Palliative Care           6\n",
       "Name: count, dtype: int64"
      ]
     },
     "execution_count": 133,
     "metadata": {},
     "output_type": "execute_result"
    }
   ],
   "source": [
    "df = pd.read_csv('data/skincancer.csv')\n",
    "df['sentence'][0]"
   ]
  },
  {
   "cell_type": "code",
   "execution_count": 123,
   "id": "eaf83005",
   "metadata": {},
   "outputs": [
    {
     "data": {
      "text/plain": [
       "diagnostic\n",
       "BCC    845\n",
       "ACK    730\n",
       "NEV    244\n",
       "SEK    235\n",
       "SCC    192\n",
       "MEL     52\n",
       "Name: count, dtype: int64"
      ]
     },
     "execution_count": 123,
     "metadata": {},
     "output_type": "execute_result"
    }
   ],
   "source": [
    "df['diagnostic'].value_counts()"
   ]
  },
  {
   "cell_type": "code",
   "execution_count": 124,
   "id": "9c29f08d",
   "metadata": {},
   "outputs": [
    {
     "data": {
      "text/plain": [
       "\" df.loc[:, 'diagnostic'] =   df['diagnostic'].map({\\n    'BCC': 'malignant',\\n    'SCC': 'malignant',\\n    'ACK': 'benign',\\n    'NEV': 'benign',\\n    'SEK': 'benign',\\n    'MEL': 'malignant'\\n  }) \""
      ]
     },
     "execution_count": 124,
     "metadata": {},
     "output_type": "execute_result"
    }
   ],
   "source": [
    "df.loc[:, 'diagnostic'] = \\\n",
    "  df['diagnostic'].map({\n",
    "    'BCC': 'malignant',\n",
    "    'SCC': 'malignant',\n",
    "    'ACK': 'benign',\n",
    "    'NEV': 'benign',\n",
    "    'SEK': 'benign',\n",
    "    'MEL': 'malignant'\n",
    "  })"
   ]
  },
  {
   "cell_type": "markdown",
   "metadata": {},
   "source": [
    "### Create a mapping from diagnostic strings to integers"
   ]
  },
  {
   "cell_type": "code",
   "execution_count": 125,
   "id": "109d2b3c",
   "metadata": {},
   "outputs": [],
   "source": [
    "labels = sorted(df['diagnostic'].unique())\n",
    "label_to_int = {label: i for i, label in enumerate(labels)}\n",
    "int_to_label = {i: label for label, i in label_to_int.items()}\n",
    "df['label'] = df['diagnostic'].map(label_to_int)"
   ]
  },
  {
   "cell_type": "markdown",
   "id": "2c77327b",
   "metadata": {},
   "source": [
    "### Split data"
   ]
  },
  {
   "cell_type": "code",
   "execution_count": 126,
   "id": "e6aa095f",
   "metadata": {},
   "outputs": [
    {
     "name": "stdout",
     "output_type": "stream",
     "text": [
      "Training set size: 1838\n",
      "Validation set size: 460\n",
      "Number of classes: 6\n"
     ]
    }
   ],
   "source": [
    "NUM_CLASSES = len(labels)\n",
    "\n",
    "X_train, X_val, y_train, y_val = train_test_split(\n",
    "    df['sentence'], df['label'], test_size=0.2, random_state=42, stratify=df['label']\n",
    ")\n",
    "print(f\"Training set size: {len(X_train)}\")\n",
    "print(f\"Validation set size: {len(X_val)}\")\n",
    "print(f\"Number of classes: {NUM_CLASSES}\")"
   ]
  },
  {
   "cell_type": "markdown",
   "id": "13fc1899",
   "metadata": {},
   "source": [
    "### Simple Word-Level Tokenizer"
   ]
  },
  {
   "cell_type": "code",
   "execution_count": 127,
   "id": "e9e55e63",
   "metadata": {},
   "outputs": [
    {
     "name": "stdout",
     "output_type": "stream",
     "text": [
      "\n",
      "Vocabulary size: 189\n"
     ]
    }
   ],
   "source": [
    "tokenizer = MostFrequentWordsTokenizer(vocab_size=VOCAB_SIZE)\n",
    "tokenizer.build_vocab(X_train)\n",
    "print(f\"\\nVocabulary size: {tokenizer.get_vocab_size()}\")"
   ]
  },
  {
   "cell_type": "markdown",
   "id": "c5762555",
   "metadata": {},
   "source": [
    "### PyTorch Dataset"
   ]
  },
  {
   "cell_type": "code",
   "execution_count": null,
   "id": "c7d430d8",
   "metadata": {},
   "outputs": [],
   "source": [
    "class SkinLesionDataset(Dataset):\n",
    "    def __init__(self, sentences, labels, tokenizer, max_len):\n",
    "        self.sentences = sentences\n",
    "        self.labels = labels\n",
    "        self.tokenizer = tokenizer\n",
    "        self.max_len = max_len\n",
    "\n",
    "    def __len__(self):\n",
    "        return len(self.sentences)\n",
    "\n",
    "    def __getitem__(self, idx):\n",
    "        sentence = str(self.sentences.iloc[idx])\n",
    "        label = self.labels.iloc[idx]\n",
    "\n",
    "        tokens = self.tokenizer.tokenize(sentence)\n",
    "        token_ids = self.tokenizer.convert_tokens_to_ids(tokens)\n",
    "        token_ids = self.tokenizer.encode(['[CLS]']) + token_ids\n",
    "        token_ids = token_ids[:self.max_len]\n",
    "\n",
    "        id_pad_token = self.tokenizer.encode(['[PAD]'])\n",
    "        padding_len = self.max_len - len(token_ids)\n",
    "        token_ids = token_ids + id_pad_token * padding_len\n",
    "        attention_mask = [1 if id != id_pad_token else 0 for id in token_ids]\n",
    "        attention_mask = torch.tensor(attention_mask, dtype=torch.long).unsqueeze(0)\n",
    "\n",
    "        return {\n",
    "            'text': torch.tensor(token_ids, dtype=torch.long),\n",
    "            'mask': attention_mask,\n",
    "            'label': torch.tensor(label, dtype=torch.long)\n",
    "        }\n",
    "    \n",
    "train_dataset = SkinLesionDataset(X_train, y_train, tokenizer, BLOCK_SIZE)\n",
    "val_dataset = SkinLesionDataset(X_val, y_val, tokenizer, BLOCK_SIZE)\n",
    "train_loader = DataLoader(train_dataset, batch_size=BATCH_SIZE, shuffle=True)\n",
    "val_loader = DataLoader(val_dataset, batch_size=BATCH_SIZE, shuffle=False)\n"
   ]
  },
  {
   "cell_type": "code",
   "execution_count": 129,
   "id": "49acfb66",
   "metadata": {},
   "outputs": [],
   "source": [
    "class TransformerEncoderBlock(nn.Module):\n",
    "    def __init__(self, d_model, n_heads, ff_dim, dropout):\n",
    "        super().__init__()\n",
    "        self.attention = MultiHeadAttention(d_model, n_heads, dropout)\n",
    "        self.norm1 = nn.LayerNorm(d_model)\n",
    "        self.norm2 = nn.LayerNorm(d_model)\n",
    "        self.ff = FeedForward(d_model, ff_dim, dropout)\n",
    "        self.dropout = nn.Dropout(dropout)\n",
    "\n",
    "    def forward(self, x, mask=None):\n",
    "        attn_output = self.attention(x, mask)\n",
    "        x = self.norm1(x + self.dropout(attn_output))\n",
    "        ff_output = self.ff(x)\n",
    "        return self.norm2(x + self.dropout(ff_output))"
   ]
  },
  {
   "cell_type": "code",
   "execution_count": 130,
   "id": "2bf99847",
   "metadata": {},
   "outputs": [],
   "source": [
    "class MiniBERT(nn.Module):\n",
    "    def __init__(self, vocab_size, d_model, n_layers, n_heads, num_classes, max_len, dropout):\n",
    "        super().__init__()\n",
    "        self.token_embedding = nn.Embedding(vocab_size, d_model)\n",
    "        self.position_embedding = nn.Embedding(max_len, d_model)\n",
    "        self.layers = nn.ModuleList([\n",
    "            TransformerEncoderBlock(d_model, n_heads, d_model * 4, dropout)\n",
    "            for _ in range(n_layers)\n",
    "        ])\n",
    "        self.dropout = nn.Dropout(dropout)\n",
    "        self.fc_out = nn.Linear(d_model, num_classes)\n",
    "        self.scale = torch.sqrt(torch.FloatTensor([d_model])).to(DEVICE)\n",
    "\n",
    "    def forward(self, src, src_mask):\n",
    "        batch_size, seq_len = src.shape\n",
    "        pos = torch.arange(0, seq_len).unsqueeze(0).repeat(batch_size, 1).to(DEVICE)\n",
    "        tok_emb = self.token_embedding(src) * self.scale\n",
    "        pos_emb = self.position_embedding(pos)\n",
    "        x = self.dropout(tok_emb + pos_emb)\n",
    "        for layer in self.layers:\n",
    "            x = layer(x, src_mask)\n",
    "        cls_output = x[:, 0, :]\n",
    "        return self.fc_out(cls_output)"
   ]
  },
  {
   "cell_type": "code",
   "execution_count": 131,
   "id": "bfbd82a3",
   "metadata": {},
   "outputs": [
    {
     "name": "stdout",
     "output_type": "stream",
     "text": [
      "Class Weights:\n",
      "  - Class 'ACK': 3.15\n",
      "  - Class 'BCC': 2.72\n",
      "  - Class 'MEL': 43.76\n",
      "  - Class 'NEV': 9.43\n",
      "  - Class 'SCC': 12.01\n",
      "  - Class 'SEK': 9.78\n"
     ]
    }
   ],
   "source": [
    "weights = get_class_weights(NUM_CLASSES, df, y_train.values, int_to_label, DEVICE)"
   ]
  },
  {
   "cell_type": "code",
   "execution_count": 132,
   "id": "01b0372d",
   "metadata": {},
   "outputs": [
    {
     "name": "stdout",
     "output_type": "stream",
     "text": [
      "\n",
      "Starting training...\n"
     ]
    },
    {
     "name": "stdout",
     "output_type": "stream",
     "text": [
      "Epoch: 01 | Train Loss: 1.324 | Val. Loss: 1.207 | Val. Recall: 26.14% | Val. Precision: 18.16% | Val. FPR: 11.61%\n",
      "Epoch: 02 | Train Loss: 1.218 | Val. Loss: 1.176 | Val. Recall: 25.96% | Val. Precision: 18.00% | Val. FPR: 11.71%\n",
      "Epoch: 03 | Train Loss: 1.190 | Val. Loss: 1.180 | Val. Recall: 26.07% | Val. Precision: 18.08% | Val. FPR: 11.66%\n",
      "Epoch: 04 | Train Loss: 1.164 | Val. Loss: 1.112 | Val. Recall: 26.25% | Val. Precision: 18.03% | Val. FPR: 11.55%\n",
      "Epoch: 05 | Train Loss: 1.149 | Val. Loss: 1.139 | Val. Recall: 26.79% | Val. Precision: 34.95% | Val. FPR: 11.41%\n",
      "Epoch: 06 | Train Loss: 1.137 | Val. Loss: 1.108 | Val. Recall: 26.44% | Val. Precision: 18.14% | Val. FPR: 11.44%\n",
      "Epoch: 07 | Train Loss: 1.122 | Val. Loss: 1.128 | Val. Recall: 27.02% | Val. Precision: 29.57% | Val. FPR: 11.39%\n",
      "Epoch: 08 | Train Loss: 1.115 | Val. Loss: 1.060 | Val. Recall: 30.95% | Val. Precision: 30.00% | Val. FPR: 10.63%\n",
      "Epoch: 09 | Train Loss: 1.090 | Val. Loss: 1.079 | Val. Recall: 30.20% | Val. Precision: 28.08% | Val. FPR: 10.73%\n",
      "Epoch: 10 | Train Loss: 1.074 | Val. Loss: 1.059 | Val. Recall: 33.65% | Val. Precision: 27.30% | Val. FPR: 9.87%\n",
      "Epoch: 11 | Train Loss: 1.042 | Val. Loss: 1.079 | Val. Recall: 36.81% | Val. Precision: 39.09% | Val. FPR: 9.57%\n",
      "Epoch: 12 | Train Loss: 1.054 | Val. Loss: 1.095 | Val. Recall: 36.22% | Val. Precision: 38.00% | Val. FPR: 9.71%\n",
      "Epoch: 13 | Train Loss: 1.025 | Val. Loss: 1.018 | Val. Recall: 37.05% | Val. Precision: 38.36% | Val. FPR: 9.27%\n",
      "Epoch: 14 | Train Loss: 1.006 | Val. Loss: 1.014 | Val. Recall: 31.79% | Val. Precision: 38.16% | Val. FPR: 9.99%\n",
      "Epoch: 15 | Train Loss: 0.996 | Val. Loss: 0.983 | Val. Recall: 36.13% | Val. Precision: 38.08% | Val. FPR: 9.38%\n",
      "Epoch: 16 | Train Loss: 0.991 | Val. Loss: 1.069 | Val. Recall: 36.40% | Val. Precision: 37.38% | Val. FPR: 9.97%\n",
      "Epoch: 17 | Train Loss: 0.970 | Val. Loss: 1.105 | Val. Recall: 36.05% | Val. Precision: 37.96% | Val. FPR: 9.97%\n",
      "Epoch: 18 | Train Loss: 0.988 | Val. Loss: 0.946 | Val. Recall: 38.15% | Val. Precision: 37.53% | Val. FPR: 9.07%\n",
      "Epoch: 19 | Train Loss: 0.968 | Val. Loss: 0.954 | Val. Recall: 39.54% | Val. Precision: 40.72% | Val. FPR: 8.84%\n",
      "Epoch: 20 | Train Loss: 0.952 | Val. Loss: 0.992 | Val. Recall: 38.42% | Val. Precision: 41.35% | Val. FPR: 9.14%\n",
      "Epoch: 21 | Train Loss: 0.949 | Val. Loss: 0.972 | Val. Recall: 36.44% | Val. Precision: 40.70% | Val. FPR: 9.20%\n",
      "Epoch: 22 | Train Loss: 0.950 | Val. Loss: 0.939 | Val. Recall: 37.71% | Val. Precision: 36.35% | Val. FPR: 9.36%\n",
      "Epoch: 23 | Train Loss: 0.923 | Val. Loss: 0.943 | Val. Recall: 39.40% | Val. Precision: 44.88% | Val. FPR: 8.75%\n",
      "Epoch: 24 | Train Loss: 0.924 | Val. Loss: 0.975 | Val. Recall: 41.00% | Val. Precision: 41.27% | Val. FPR: 8.55%\n",
      "Epoch: 25 | Train Loss: 0.928 | Val. Loss: 0.926 | Val. Recall: 39.04% | Val. Precision: 38.61% | Val. FPR: 9.11%\n",
      "Carregando o melhor modelo salvo (época: 25)...\n",
      "              precision    recall  f1-score   support\n",
      "\n",
      "         ACK       0.80      0.63      0.70       146\n",
      "         BCC       0.60      0.92      0.72       169\n",
      "         MEL       0.00      0.00      0.00        10\n",
      "         NEV       0.49      0.45      0.47        49\n",
      "         SCC       0.00      0.00      0.00        39\n",
      "         SEK       0.43      0.34      0.38        47\n",
      "\n",
      "    accuracy                           0.62       460\n",
      "   macro avg       0.39      0.39      0.38       460\n",
      "weighted avg       0.57      0.62      0.58       460\n",
      "\n"
     ]
    }
   ],
   "source": [
    "model = MiniBERT(\n",
    "    vocab_size=tokenizer.get_vocab_size(),\n",
    "    d_model=D_MODEL,\n",
    "    n_layers=N_LAYERS,\n",
    "    n_heads=N_HEADS,\n",
    "    num_classes=NUM_CLASSES if NUM_CLASSES > 2 else 1,\n",
    "    max_len=BLOCK_SIZE,\n",
    "    dropout=DROPOUT\n",
    ").to(DEVICE)\n",
    "\n",
    "trainer = Trainer(device=DEVICE, save_name='mini_bert.pth', num_classes=NUM_CLASSES, weights=weights)\n",
    "trainer.fit(model,\n",
    "            LEARNING_RATE,\n",
    "            MAX_EPOCHS,\n",
    "            weights,\n",
    "            train_loader,\n",
    "            val_loader,\n",
    "            NUM_CLASSES,\n",
    "            int_to_label,\n",
    "        )"
   ]
  }
 ],
 "metadata": {
  "kernelspec": {
   "display_name": "gandalf",
   "language": "python",
   "name": "python3"
  },
  "language_info": {
   "codemirror_mode": {
    "name": "ipython",
    "version": 3
   },
   "file_extension": ".py",
   "mimetype": "text/x-python",
   "name": "python",
   "nbconvert_exporter": "python",
   "pygments_lexer": "ipython3",
   "version": "3.10.14"
  }
 },
 "nbformat": 4,
 "nbformat_minor": 5
}
