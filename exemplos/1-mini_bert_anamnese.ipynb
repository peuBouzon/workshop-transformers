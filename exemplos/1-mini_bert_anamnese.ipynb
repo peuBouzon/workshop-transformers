{
 "cells": [
  {
   "cell_type": "markdown",
   "id": "93e739ad",
   "metadata": {},
   "source": [
    "# Imports"
   ]
  },
  {
   "cell_type": "code",
   "execution_count": null,
   "id": "eedaaa90",
   "metadata": {},
   "outputs": [],
   "source": [
    "import torch\n",
    "import numpy as np\n",
    "import pandas as pd\n",
    "import torch.nn as nn\n",
    "\n",
    "from pprint import pprint\n",
    "from torch.utils.data import Dataset, DataLoader\n",
    "from sklearn.model_selection import train_test_split\n",
    "from sklearn.metrics import recall_score, precision_score\n",
    "from imblearn.metrics import specificity_score\n"
   ]
  },
  {
   "cell_type": "markdown",
   "id": "0a2cfd71",
   "metadata": {},
   "source": [
    "# Configuração e hiperparâmetros"
   ]
  },
  {
   "cell_type": "code",
   "execution_count": null,
   "id": "8180c8d7",
   "metadata": {},
   "outputs": [],
   "source": [
    "VOCAB_SIZE = 8000\n",
    "D_MODEL = 384     #768\n",
    "N_HEADS = 6       #12\n",
    "N_LAYERS = 2      #12\n",
    "DROPOUT = 0.1\n",
    "MAX_EPOCHS = 20\n",
    "BATCH_SIZE = 32\n",
    "BLOCK_SIZE = 256  #512\n",
    "LEARNING_RATE = 1e-4\n",
    "DEVICE = 'cuda' if torch.cuda.is_available() else 'cpu'"
   ]
  },
  {
   "cell_type": "markdown",
   "id": "5d25ded2",
   "metadata": {},
   "source": [
    "# 1. Classes Utilitárias"
   ]
  },
  {
   "cell_type": "markdown",
   "id": "3b1332af",
   "metadata": {},
   "source": [
    "## 1.1 Tokenizador"
   ]
  },
  {
   "cell_type": "code",
   "execution_count": null,
   "id": "dc7737e1",
   "metadata": {},
   "outputs": [],
   "source": [
    "import re\n",
    "from collections import Counter\n",
    "\n",
    "class MostFrequentWordsTokenizer:\n",
    "    def __init__(self, vocab_size):\n",
    "        self.vocab_size = vocab_size\n",
    "        self.token_to_idx = {}\n",
    "        self.idx_to_token = {}\n",
    "\n",
    "    def clean_sentence(self, sentence):\n",
    "        sentence = sentence.lower()\n",
    "        return re.sub(r'[^a-z0-9\\s]', '', sentence)\n",
    "\n",
    "    def build_vocab(self, sentences):\n",
    "        words = []\n",
    "        for sentence in sentences:\n",
    "            words.extend(self.clean_sentence(str(sentence)).split())\n",
    "\n",
    "        word_counts = Counter(words)\n",
    "        most_common_words = word_counts.most_common(self.vocab_size - 4)\n",
    "        \n",
    "        self.token_to_idx = {'[PAD]': 0, '[UNK]': 1, '[CLS]': 2, '[SEP]': 3} # Tokens especiais\n",
    "        for i, (word, _) in enumerate(most_common_words, 4):\n",
    "            self.token_to_idx[word] = i\n",
    "\n",
    "        self.idx_to_token = {i: w for w, i in self.token_to_idx.items()}\n",
    "\n",
    "    def tokenize(self, sentence):\n",
    "        cleaned_sentence = self.clean_sentence(str(sentence))\n",
    "        return cleaned_sentence.split()\n",
    "\n",
    "    def convert_tokens_to_ids(self, tokens):\n",
    "        return [self.token_to_idx.get(token, self.token_to_idx['[UNK]']) for token in tokens]\n",
    "    \n",
    "    def encode(self, sentence):\n",
    "        tokens = ['[CLS]'] + self.tokenize(sentence) + ['[SEP]']\n",
    "        return self.convert_tokens_to_ids(tokens)\n",
    "    \n",
    "    def decode(self, ids):\n",
    "        return ' '.join([self.idx_to_token.get(i, '[UNK]') for i in ids])\n",
    "\n",
    "    def get_vocab_size(self):\n",
    "        return len(self.token_to_idx)\n"
   ]
  },
  {
   "cell_type": "markdown",
   "id": "9c5be910",
   "metadata": {},
   "source": [
    "## 1.2 Camadas do Transformer"
   ]
  },
  {
   "cell_type": "markdown",
   "id": "97fec2bb",
   "metadata": {},
   "source": [
    "### 1.2.1 Attention"
   ]
  },
  {
   "cell_type": "code",
   "execution_count": null,
   "id": "f2cc0995",
   "metadata": {},
   "outputs": [],
   "source": [
    "class SingleHeadAttention(nn.Module):\n",
    "    def __init__(self, d_model, head_dim, dropout):\n",
    "        super().__init__()\n",
    "        self.head_dim = head_dim\n",
    "        self.fc_q = nn.Linear(d_model, head_dim)\n",
    "        self.fc_k = nn.Linear(d_model, head_dim)\n",
    "        self.fc_v = nn.Linear(d_model, head_dim)\n",
    "        self.dropout = nn.Dropout(dropout)\n",
    "        self.register_buffer('scale', torch.sqrt(torch.FloatTensor([head_dim])))\n",
    "\n",
    "    def forward(self, x, mask=None):\n",
    "        Q, K, V = self.fc_q(x), self.fc_k(x), self.fc_v(x)\n",
    "        qV = torch.matmul(Q, K.transpose(-2, -1)) / self.scale\n",
    "        if mask is not None:\n",
    "            qV = qV.masked_fill(mask == 0, -1e10)\n",
    "        attention = torch.softmax(qV, dim=-1)\n",
    "        return torch.matmul(self.dropout(attention), V) "
   ]
  },
  {
   "cell_type": "markdown",
   "id": "e6b5e7fa",
   "metadata": {},
   "source": [
    "### 1.2.2 Multi Head Attention"
   ]
  },
  {
   "cell_type": "code",
   "execution_count": null,
   "id": "d99df735",
   "metadata": {},
   "outputs": [],
   "source": [
    "class MultiHeadAttention(nn.Module):\n",
    "    def __init__(self, d_model, n_heads, dropout):\n",
    "        super().__init__()\n",
    "        assert d_model % n_heads == 0\n",
    "\n",
    "        self.heads = nn.ModuleList([\n",
    "            SingleHeadAttention(d_model, d_model // n_heads, dropout)\n",
    "            for _ in range(n_heads)\n",
    "        ])\n",
    "\n",
    "        self.fc_out = nn.Linear(d_model, d_model)\n",
    "        self.dropout = nn.Dropout(dropout)\n",
    "\n",
    "    def forward(self, x, mask=None):\n",
    "        head_outputs = [head(x, mask) for head in self.heads]\n",
    "        concatenated = torch.cat(head_outputs, dim=-1)\n",
    "        return self.fc_out(concatenated)"
   ]
  },
  {
   "cell_type": "markdown",
   "id": "16e927a1",
   "metadata": {},
   "source": [
    "### 1.2.3 Feed Forward"
   ]
  },
  {
   "cell_type": "code",
   "execution_count": null,
   "id": "61d22477",
   "metadata": {},
   "outputs": [],
   "source": [
    "class FeedForward(nn.Module):\n",
    "    def __init__(self, d_model, ff_dim, dropout):\n",
    "        super().__init__()\n",
    "        self.net = nn.Sequential(\n",
    "            nn.Linear(d_model, ff_dim),\n",
    "            nn.ReLU(),\n",
    "            nn.Dropout(dropout),\n",
    "            nn.Linear(ff_dim, d_model)\n",
    "        )\n",
    "\n",
    "    def forward(self, x):\n",
    "        return self.net(x)"
   ]
  },
  {
   "cell_type": "markdown",
   "id": "aabe2538",
   "metadata": {},
   "source": [
    "# 2. Carregando o dataset"
   ]
  },
  {
   "cell_type": "code",
   "execution_count": null,
   "id": "cddcf843",
   "metadata": {},
   "outputs": [],
   "source": [
    "df = pd.read_csv('transcription.csv')"
   ]
  },
  {
   "cell_type": "markdown",
   "id": "ad198460",
   "metadata": {},
   "source": [
    "## 2.2 Remove linhas sem transcrição ou especialidade"
   ]
  },
  {
   "cell_type": "code",
   "execution_count": null,
   "id": "69fe7d85",
   "metadata": {},
   "outputs": [],
   "source": [
    "df.dropna(subset=['transcription', 'medical_specialty'], inplace=True)"
   ]
  },
  {
   "cell_type": "markdown",
   "id": "a25bcdfe",
   "metadata": {},
   "source": [
    "## 2.1 Seleciona especialidades "
   ]
  },
  {
   "cell_type": "code",
   "execution_count": null,
   "id": "b324f4c9",
   "metadata": {},
   "outputs": [],
   "source": [
    "df = df[df['medical_specialty'].isin(\n",
    "  [' Cardiovascular / Pulmonary',\n",
    "   ' Orthopedic', ' Radiology', ' General Medicine', ' Gastroenterology', 'Neurology',\n",
    "  ])].reset_index(drop=True)\n",
    "df['medical_specialty'].value_counts()\n"
   ]
  },
  {
   "cell_type": "code",
   "execution_count": null,
   "id": "7cd171ae",
   "metadata": {},
   "outputs": [],
   "source": [
    "pprint(df['transcription'][50][:475])\n",
    "print(f'Especialidade: {df[\"medical_specialty\"][50]}')"
   ]
  },
  {
   "cell_type": "markdown",
   "id": "1b69aaa5",
   "metadata": {},
   "source": [
    "# 3. Pré-processamento"
   ]
  },
  {
   "cell_type": "markdown",
   "metadata": {},
   "source": [
    "## 3.1 Transformando especialidade em números"
   ]
  },
  {
   "cell_type": "code",
   "execution_count": null,
   "id": "109d2b3c",
   "metadata": {},
   "outputs": [],
   "source": [
    "labels = sorted(df['medical_specialty'].unique())\n",
    "\n",
    "label_to_int = {label: i for i, label in enumerate(labels)}\n",
    "int_to_label = {i: label for label, i in label_to_int.items()}\n",
    "\n",
    "df['label'] = df['medical_specialty'].map(label_to_int)\n",
    "df['label'].value_counts()"
   ]
  },
  {
   "cell_type": "code",
   "execution_count": null,
   "id": "a98957d5",
   "metadata": {},
   "outputs": [],
   "source": [
    "NUM_CLASSES = len(labels)\n",
    "print(f\"Número de classes: {NUM_CLASSES}\")"
   ]
  },
  {
   "cell_type": "markdown",
   "id": "2c77327b",
   "metadata": {},
   "source": [
    "## 3.2 Divindo conjunto de treino e validação"
   ]
  },
  {
   "cell_type": "code",
   "execution_count": null,
   "id": "e6aa095f",
   "metadata": {},
   "outputs": [],
   "source": [
    "X_train, X_val, y_train, y_val = train_test_split(\n",
    "    df['transcription'], df['label'], test_size=0.2, random_state=42, stratify=df['label']\n",
    ")\n",
    "print(f\"Treino: {len(X_train)}\")\n",
    "print(f\"Validação: {len(X_val)}\")"
   ]
  },
  {
   "cell_type": "markdown",
   "id": "36797d85",
   "metadata": {},
   "source": [
    "## 3.3 Tokenizando o texto"
   ]
  },
  {
   "cell_type": "code",
   "execution_count": null,
   "id": "e9e55e63",
   "metadata": {},
   "outputs": [],
   "source": [
    "tokenizer = MostFrequentWordsTokenizer(vocab_size=VOCAB_SIZE)\n",
    "tokenizer.build_vocab(X_train)\n",
    "print(f\"\\nTamanho do vocabulário: {tokenizer.get_vocab_size()}\")\n",
    "\n",
    "tokenizer.tokenize(\"Joe broke his leg playing soccer.\")"
   ]
  },
  {
   "cell_type": "markdown",
   "id": "4e98f1e0",
   "metadata": {},
   "source": [
    "## 3.4 Criando um dataset para carregar o texto"
   ]
  },
  {
   "cell_type": "code",
   "execution_count": null,
   "id": "c7d430d8",
   "metadata": {},
   "outputs": [],
   "source": [
    "class SkinLesionDataset(Dataset):\n",
    "    def __init__(self, sentences, labels, tokenizer, block_size):\n",
    "        self.sentences = sentences\n",
    "        self.labels = labels\n",
    "        self.tokenizer = tokenizer\n",
    "        self.block_size = block_size\n",
    "\n",
    "    def __len__(self):\n",
    "        return len(self.sentences)\n",
    "\n",
    "    def __getitem__(self, idx):\n",
    "        sentence = str(self.sentences.iloc[idx])\n",
    "        label = self.labels.iloc[idx]\n",
    "\n",
    "        # Tokeniza a frase\n",
    "        token_ids = self.tokenizer.encode(sentence)\n",
    "\n",
    "        # Trunca frases maiores que block_size\n",
    "        token_ids = token_ids[:self.block_size] \n",
    "\n",
    "        # Completa frases menores que block_size com [PAD]\n",
    "        id_pad_token = self.tokenizer.convert_tokens_to_ids(['[PAD]'])\n",
    "        padding_len = self.block_size - len(token_ids) \n",
    "        token_ids = token_ids + id_pad_token * padding_len\n",
    "\n",
    "        # Cria máscara de atenção para ignorar tokens de padding\n",
    "        attention_mask = [1 if id != id_pad_token else 0 for id in token_ids]\n",
    "        attention_mask = torch.tensor(attention_mask, dtype=torch.long).unsqueeze(0)\n",
    "\n",
    "        return {\n",
    "            'text': torch.tensor(token_ids, dtype=torch.long),\n",
    "            'mask': attention_mask,\n",
    "            'label': torch.tensor(label, dtype=torch.long)\n",
    "        }\n",
    "\n",
    "train_dataset = SkinLesionDataset(X_train, y_train, tokenizer, BLOCK_SIZE)\n",
    "val_dataset = SkinLesionDataset(X_val, y_val, tokenizer, BLOCK_SIZE)\n",
    "\n",
    "train_loader = DataLoader(train_dataset, batch_size=BATCH_SIZE, shuffle=True)\n",
    "val_loader = DataLoader(val_dataset, batch_size=BATCH_SIZE, shuffle=False)\n"
   ]
  },
  {
   "cell_type": "code",
   "execution_count": null,
   "id": "f2d8c845",
   "metadata": {},
   "outputs": [],
   "source": [
    "max_len = 0\n",
    "for batch in train_dataset:\n",
    "  text = batch['text']\n",
    "  if len(text) > max_len:\n",
    "    max_len = len(text)\n",
    "print(f'Maior sequência de treino: {max_len}')"
   ]
  },
  {
   "cell_type": "markdown",
   "id": "ca3e2d6e",
   "metadata": {},
   "source": [
    "# 4. Bidirectional Encoder Representations from Transformers (BERT)"
   ]
  },
  {
   "cell_type": "markdown",
   "id": "4dab84e2",
   "metadata": {},
   "source": [
    "## 4.1 Implementando Encoder do Transformer"
   ]
  },
  {
   "cell_type": "code",
   "execution_count": null,
   "id": "49acfb66",
   "metadata": {},
   "outputs": [],
   "source": [
    "class TransformerEncoderBlock(nn.Module):\n",
    "    def __init__(self, d_model, n_heads, ff_dim, dropout):\n",
    "        super().__init__()\n",
    "        self.attention = MultiHeadAttention(d_model, n_heads, dropout)\n",
    "        self.norm1 = nn.LayerNorm(d_model)\n",
    "        self.norm2 = nn.LayerNorm(d_model)\n",
    "        self.ff = FeedForward(d_model, ff_dim, dropout)\n",
    "        self.dropout = nn.Dropout(dropout)\n",
    "\n",
    "    def forward(self, x, mask=None):\n",
    "        attn_output = self.attention(x, mask)\n",
    "        x = self.norm1(x + self.dropout(attn_output))\n",
    "        ff_output = self.ff(x)\n",
    "        return self.norm2(x + self.dropout(ff_output))"
   ]
  },
  {
   "cell_type": "markdown",
   "id": "4748b5eb",
   "metadata": {},
   "source": [
    "## 4.2 Implementando BERT"
   ]
  },
  {
   "cell_type": "code",
   "execution_count": null,
   "id": "2bf99847",
   "metadata": {},
   "outputs": [],
   "source": [
    "class BERT(nn.Module):\n",
    "    def __init__(self, vocab_size, d_model, n_layers, n_heads, num_classes, block_size, dropout):\n",
    "        super().__init__()\n",
    "        self.input_embedding = nn.Embedding(vocab_size, d_model)\n",
    "        self.position_embedding = nn.Embedding(block_size, d_model)\n",
    "        self.layers = nn.ModuleList([\n",
    "            TransformerEncoderBlock(d_model, n_heads, d_model * 4, dropout)\n",
    "            for _ in range(n_layers)\n",
    "        ])\n",
    "        self.dropout = nn.Dropout(dropout)\n",
    "        self.embed_layer_norm = nn.LayerNorm(d_model)\n",
    "        self.linear = nn.Linear(d_model, num_classes)\n",
    "        self.register_buffer('scale', torch.sqrt(torch.FloatTensor([d_model])))\n",
    "        self.register_buffer('pos', torch.arange(block_size).unsqueeze(0))\n",
    "\n",
    "    def forward(self, src, src_mask):\n",
    "        input_emb = self.input_embedding(src) * self.scale\n",
    "        positional_emb = self.position_embedding(self.pos)\n",
    "        x = self.dropout(self.embed_layer_norm(input_emb + positional_emb))\n",
    "        for layer in self.layers:\n",
    "            x = layer(x, src_mask)\n",
    "        cls_output = x[:, 0, :]\n",
    "        return self.linear(cls_output)"
   ]
  },
  {
   "cell_type": "markdown",
   "id": "b582cdf9",
   "metadata": {},
   "source": [
    "# 5. Treinamento"
   ]
  },
  {
   "cell_type": "code",
   "execution_count": null,
   "id": "961191cf",
   "metadata": {},
   "outputs": [],
   "source": [
    "class Trainer:\n",
    "\tdef __init__(self, device, save_name, weights):\n",
    "\t\tself.device = device\n",
    "\t\tself.criterion = nn.CrossEntropyLoss(weight=weights)\n",
    "\t\tself.save_name = save_name\n",
    "\n",
    "\tdef fit(self, model, learning_rate, max_epochs, train_loader, val_loader):\n",
    "\t\t# configura o otimizador\n",
    "\t\toptimizer = torch.optim.Adam(model.parameters(), lr=learning_rate, betas=(0.9, 0.98), eps=1e-9)\n",
    "\n",
    "\t\tprint(\"\\nIniciando Treinamento...\")\n",
    "\n",
    "\t\tself.min_loss = float('inf')\n",
    "\t\tfor epoch in range(max_epochs):\n",
    "\t\t\t# treina uma época\n",
    "\t\t\ttrain_loss = self._train_epoch(model, train_loader, optimizer, self.criterion)\n",
    "\n",
    "\t\t\t# avalia no conjunto de validação\n",
    "\t\t\teval_validation = self.evaluate(model, val_loader)\n",
    "\n",
    "\t\t\t# se a loss de validação for a menor já vista\n",
    "\t\t\tif eval_validation['loss'] < self.min_loss:\n",
    "\t\t\t\tself.min_loss = eval_validation['loss']\n",
    "\t\t\t\t# salva o modelo com menor loss de validação\n",
    "\t\t\t\ttorch.save(model.state_dict(), f'{self.save_name}')\n",
    "\n",
    "\t\t\tprint(f\"Epoch: {epoch+1:02} | Train Loss: {train_loss:.3f} | Val. Loss: {eval_validation['loss']:.3f} | Val. Recall: {eval_validation['recall']*100:.2f}% | Val. FPR: {eval_validation['fpr']*100:.2f}%\")\n",
    "\n",
    "\t\t# Após treinar, carrega o melhor modelo salvo\n",
    "\t\tmodel.load_state_dict(torch.load(self.save_name))\n",
    "\n",
    "\tdef _train_epoch(self, model, iterator, optimizer, criterion):\n",
    "\t\tmodel.train()\n",
    "\t\tepoch_loss = 0\n",
    "\t\tfor batch in iterator:\n",
    "\t\t\toutput, label = self.get_logits_targets(model, batch)\n",
    "\t\t\toptimizer.zero_grad()\n",
    "\t\t\tloss = criterion(output, label)\n",
    "\t\t\tloss.backward()\n",
    "\t\t\toptimizer.step()\n",
    "\t\t\tepoch_loss += loss.item()\n",
    "\t\treturn epoch_loss / len(iterator)\n",
    "\n",
    "\tdef evaluate(self, model, iterator):\n",
    "\t\tmodel.eval()\n",
    "\n",
    "\t\tepoch_loss = 0\n",
    "\t\tall_preds, all_labels = [], []\n",
    "\n",
    "\t\twith torch.no_grad():\n",
    "\t\t\tfor batch in iterator:\n",
    "\t\t\t\toutput, label = self.get_logits_targets(model, batch)\n",
    "\t\t\t\tloss = self.criterion(output, label)\n",
    "\t\t\t\tepoch_loss += loss.item()\n",
    "\t\t\t\tpreds = torch.argmax(output, dim=1)\n",
    "\t\t\t\tall_preds.extend(preds.cpu().numpy())\n",
    "\t\t\t\tall_labels.extend(label.cpu().numpy())\n",
    "\n",
    "\t\tall_preds = np.array(all_preds)\n",
    "\t\tall_labels = np.array(all_labels)\n",
    "\n",
    "\t\trecall = recall_score(all_labels, all_preds, average='macro', zero_division=0)\n",
    "\t\tprecision = precision_score(all_labels, all_preds, average='macro', zero_division=0)\n",
    "\t\tfpr = 1 - specificity_score(all_labels, all_preds, average='macro')\n",
    "\n",
    "\t\treturn {\n",
    "\t\t\t'fpr': fpr,\n",
    "\t\t\t'loss': epoch_loss / len(iterator),\n",
    "\t\t\t'recall': recall,\n",
    "\t\t\t'precision': precision,\n",
    "\t\t\t'all_preds': all_preds,\n",
    "\t\t\t'all_labels': all_labels,\n",
    "\t\t}\n",
    "\n",
    "\tdef get_logits_targets(self, model, batch):\n",
    "\t\tx, label, mask = batch['text'].to(self.device), batch['label'].to(self.device), batch['mask'].to(self.device) \n",
    "\t\treturn model(x, mask), label"
   ]
  },
  {
   "cell_type": "markdown",
   "id": "4bd3e830",
   "metadata": {},
   "source": [
    "## 5.1 Defindo pesos para cada especialidade"
   ]
  },
  {
   "cell_type": "code",
   "execution_count": null,
   "id": "bfbd82a3",
   "metadata": {},
   "outputs": [],
   "source": [
    "def get_class_weights(y_train, int_to_label, device):\n",
    "  weights = 1 / (torch.bincount(torch.tensor(y_train)) / len(y_train)).to(device)\n",
    "  print(f\"Peso da classe:\")\n",
    "  for i, weight in enumerate(weights):\n",
    "      print(f\"'{int_to_label[i]}': {weight:.2f}\")\n",
    "\n",
    "weights = get_class_weights(y_train.values, int_to_label, DEVICE)"
   ]
  },
  {
   "cell_type": "markdown",
   "id": "00a92c4b",
   "metadata": {},
   "source": [
    "## 5.2 Otimizando o modelo"
   ]
  },
  {
   "cell_type": "code",
   "execution_count": null,
   "id": "01b0372d",
   "metadata": {},
   "outputs": [],
   "source": [
    "model = BERT(\n",
    "    vocab_size=tokenizer.get_vocab_size(),\n",
    "    d_model=D_MODEL,\n",
    "    n_layers=N_LAYERS,\n",
    "    n_heads=N_HEADS,\n",
    "    num_classes=NUM_CLASSES,\n",
    "    block_size=BLOCK_SIZE,\n",
    "    dropout=DROPOUT\n",
    ").to(DEVICE)\n",
    "\n",
    "trainer = Trainer(device=DEVICE, save_name='mini_bert_anamnese.pth', weights=weights)\n",
    "trainer.fit(model,\n",
    "            LEARNING_RATE,\n",
    "            MAX_EPOCHS,\n",
    "            train_loader,\n",
    "            val_loader,\n",
    "        )"
   ]
  },
  {
   "cell_type": "markdown",
   "id": "2852d98e",
   "metadata": {},
   "source": [
    "# 6. Avaliação"
   ]
  },
  {
   "cell_type": "code",
   "execution_count": null,
   "id": "b1e469e1",
   "metadata": {},
   "outputs": [],
   "source": [
    "val_loader = DataLoader(val_dataset, batch_size=1, shuffle=True)\n",
    "eval_validation = next(iter(val_loader))\n",
    "text, mask, label = eval_validation['text'].to(DEVICE), eval_validation['mask'].to(DEVICE), eval_validation['label'].to(DEVICE)\n",
    "\n",
    "model.eval()\n",
    "with torch.no_grad():\n",
    "    pprint(tokenizer.decode(text[0, :].cpu().numpy().tolist()))\n",
    "    outputs = model(text, mask)\n",
    "    predictions = torch.argmax(outputs, dim=1)\n",
    "    print(f'Predição: {[int_to_label[p.item()] for p in predictions]}')\n",
    "    print(f'Verdadeiro: {[int_to_label[l.item()] for l in label]}')"
   ]
  },
  {
   "cell_type": "markdown",
   "id": "9d79fb67",
   "metadata": {},
   "source": [
    "# Exercícios"
   ]
  },
  {
   "cell_type": "markdown",
   "id": "b524c34f",
   "metadata": {},
   "source": [
    "1. O número máximo de tokens na sequência (BLOCK_SIZE) utilizado é adequado? Muitas sentenças estão sendo truncadas?\n",
    "\n",
    "2. Aumente o BLOCK_SIZE. Qual valor máximo suportado pela memória da GPU? E com o tokenizador baseado em palavras?\n",
    "\n",
    "3. Adapte o código acima para outra tarefa de classificação na sua área de pesquisa/atuação."
   ]
  }
 ],
 "metadata": {
  "kernelspec": {
   "display_name": "gandalf",
   "language": "python",
   "name": "python3"
  },
  "language_info": {
   "codemirror_mode": {
    "name": "ipython",
    "version": 3
   },
   "file_extension": ".py",
   "mimetype": "text/x-python",
   "name": "python",
   "nbconvert_exporter": "python",
   "pygments_lexer": "ipython3",
   "version": "3.10.14"
  }
 },
 "nbformat": 4,
 "nbformat_minor": 5
}
